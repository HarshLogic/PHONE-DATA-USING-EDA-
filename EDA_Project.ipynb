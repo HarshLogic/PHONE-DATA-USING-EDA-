{
  "nbformat": 4,
  "nbformat_minor": 0,
  "metadata": {
    "colab": {
      "provenance": [],
      "collapsed_sections": [
        "nA9Y7ga8ng1Z",
        "t6dVpIINYklI",
        "ijmpgYnKYklI",
        "-JiQyfWJYklI",
        "fge-S5ZAYoAp",
        "85gYPyotYoAp",
        "RoGjAbkUYoAp",
        "iky9q4vBYrdO",
        "F6T5p64dYrdO",
        "y-Ehk30pYrdP",
        "QHF8YVU7Yuh3",
        "GwzvFGzlYuh3",
        "qYpmQ266Yuh3",
        "bbFf2-_FphqN",
        "Seke61FWphqN",
        "t27r6nlMphqO",
        "r2jJGEOYphqO",
        "b0JNsNcRphqO",
        "gCFgpxoyphqP",
        "OVtJsKN_phqQ",
        "lssrdh5qphqQ",
        "1M8mcRywphqQ",
        "tgIPom80phqQ",
        "JMzcOPDDphqR",
        "X_VqEhTip1ck",
        "8zGJKyg5p1ck",
        "PVzmfK_Ep1ck"
      ],
      "include_colab_link": true
    },
    "kernelspec": {
      "name": "python3",
      "display_name": "Python 3"
    },
    "language_info": {
      "name": "python"
    }
  },
  "cells": [
    {
      "cell_type": "markdown",
      "metadata": {
        "id": "view-in-github",
        "colab_type": "text"
      },
      "source": [
        "<a href=\"https://colab.research.google.com/github/HarshLogic/PHONE-DATA-USING-EDA-/blob/main/EDA_Project.ipynb\" target=\"_parent\"><img src=\"https://colab.research.google.com/assets/colab-badge.svg\" alt=\"Open In Colab\"/></a>"
      ]
    },
    {
      "cell_type": "markdown",
      "source": [
        "# **Project Name**    - PHONE D\n",
        "\n"
      ],
      "metadata": {
        "id": "vncDsAP0Gaoa"
      }
    },
    {
      "cell_type": "markdown",
      "source": [
        "##### **Project Type**    - EDA\n",
        "##### **Contribution**    - Individual"
      ],
      "metadata": {
        "id": "beRrZCGUAJYm"
      }
    },
    {
      "cell_type": "markdown",
      "source": [
        "# **Project Summary -**"
      ],
      "metadata": {
        "id": "FJNUwmbgGyua"
      }
    },
    {
      "cell_type": "markdown",
      "source": [
        " Aim to explore user behavior patterns in phone usage (calls & data) using EDA."
      ],
      "metadata": {
        "id": "F6v_1wHtG2nS"
      }
    },
    {
      "cell_type": "markdown",
      "source": [
        "# **GitHub Link -**"
      ],
      "metadata": {
        "id": "w6K7xa23Elo4"
      }
    },
    {
      "cell_type": "markdown",
      "source": [
        "https://github.com/harshpiyush10/PHONE-DATA-USING-EDA-.git"
      ],
      "metadata": {
        "id": "h1o69JH3Eqqn"
      }
    },
    {
      "cell_type": "markdown",
      "source": [
        "# **Problem Statement**\n"
      ],
      "metadata": {
        "id": "yQaldy8SH6Dl"
      }
    },
    {
      "cell_type": "markdown",
      "source": [
        "In today's digital age, mobile phone usage has become an integral part of daily life, involving frequent interactions through calls, data usage, and various mobile networks. Understanding user behavior, usage patterns, and preferences can offer valuable insights for telecom providers, network optimization, and user experience improvement.\n",
        "\n",
        "This project aims to perform Exploratory Data Analysis (EDA) on a dataset containing mobile phone usage records. The goal is to uncover patterns in phone usage over time, identify the most and least used network types, examine call vs data usage trends, and analyze user behavior based on factors such as day of the week, time of day, and network provider.\n",
        "\n",
        "By analyzing this dataset, we seek to answer key questions like:\n",
        "1. When do users most frequently use their phones?\n",
        "2. What type of activity (call or data) dominates phone usage?\n",
        "3. Which network providers are used the most?\n",
        "4. How does phone usage vary across days, months, and hours?\n",
        "\n"
      ],
      "metadata": {
        "id": "DpeJGUA3kjGy"
      }
    },
    {
      "cell_type": "markdown",
      "source": [
        "#### **Define Your Business Objective?**"
      ],
      "metadata": {
        "id": "PH-0ReGfmX4f"
      }
    },
    {
      "cell_type": "markdown",
      "source": [
        "The primary business objective of this project is to analyze mobile phone usage behavior using real-world phone activity data. By uncovering patterns and trends in how users interact with mobile networks (through calls and data), telecom companies and analysts"
      ],
      "metadata": {
        "id": "PhDvGCAqmjP1"
      }
    },
    {
      "cell_type": "markdown",
      "source": [
        "# ***Let's Begin !***"
      ],
      "metadata": {
        "id": "O_i_v8NEhb9l"
      }
    },
    {
      "cell_type": "markdown",
      "source": [
        "## ***1. Know Your Data***"
      ],
      "metadata": {
        "id": "HhfV-JJviCcP"
      }
    },
    {
      "cell_type": "markdown",
      "source": [
        "### Import Libraries"
      ],
      "metadata": {
        "id": "Y3lxredqlCYt"
      }
    },
    {
      "cell_type": "code",
      "source": [
        "import pandas as pd\n",
        "import numpy as np\n",
        "import matplotlib.pyplot as plt\n",
        "import seaborn as sns"
      ],
      "metadata": {
        "id": "M8Vqi-pPk-HR"
      },
      "execution_count": 58,
      "outputs": []
    },
    {
      "cell_type": "markdown",
      "source": [
        "### Dataset Loading"
      ],
      "metadata": {
        "id": "3RnN4peoiCZX"
      }
    },
    {
      "cell_type": "code",
      "source": [
        "df = pd.read_csv('/content/phone_data.csv')"
      ],
      "metadata": {
        "id": "4CkvbW_SlZ_R"
      },
      "execution_count": 59,
      "outputs": []
    },
    {
      "cell_type": "markdown",
      "source": [
        "# Dataset First View"
      ],
      "metadata": {
        "id": "x71ZqKXriCWQ"
      }
    },
    {
      "cell_type": "code",
      "source": [
        "df.head()"
      ],
      "metadata": {
        "id": "LWNFOSvLl09H",
        "colab": {
          "base_uri": "https://localhost:8080/",
          "height": 206
        },
        "outputId": "1b0261ca-61e4-4485-c223-fac78b4a3b75"
      },
      "execution_count": 60,
      "outputs": [
        {
          "output_type": "execute_result",
          "data": {
            "text/plain": [
              "   index            date  duration  item    month   network network_type\n",
              "0      0  15/10/14 06:58    34.429  data  2014-11      data         data\n",
              "1      1  15/10/14 06:58    13.000  call  2014-11  Vodafone       mobile\n",
              "2      2  15/10/14 14:46    23.000  call  2014-11    Meteor       mobile\n",
              "3      3  15/10/14 14:48     4.000  call  2014-11     Tesco       mobile\n",
              "4      4  15/10/14 17:27     4.000  call  2014-11     Tesco       mobile"
            ],
            "text/html": [
              "\n",
              "  <div id=\"df-7d404b12-d45a-47de-9e31-de0df15cd10c\" class=\"colab-df-container\">\n",
              "    <div>\n",
              "<style scoped>\n",
              "    .dataframe tbody tr th:only-of-type {\n",
              "        vertical-align: middle;\n",
              "    }\n",
              "\n",
              "    .dataframe tbody tr th {\n",
              "        vertical-align: top;\n",
              "    }\n",
              "\n",
              "    .dataframe thead th {\n",
              "        text-align: right;\n",
              "    }\n",
              "</style>\n",
              "<table border=\"1\" class=\"dataframe\">\n",
              "  <thead>\n",
              "    <tr style=\"text-align: right;\">\n",
              "      <th></th>\n",
              "      <th>index</th>\n",
              "      <th>date</th>\n",
              "      <th>duration</th>\n",
              "      <th>item</th>\n",
              "      <th>month</th>\n",
              "      <th>network</th>\n",
              "      <th>network_type</th>\n",
              "    </tr>\n",
              "  </thead>\n",
              "  <tbody>\n",
              "    <tr>\n",
              "      <th>0</th>\n",
              "      <td>0</td>\n",
              "      <td>15/10/14 06:58</td>\n",
              "      <td>34.429</td>\n",
              "      <td>data</td>\n",
              "      <td>2014-11</td>\n",
              "      <td>data</td>\n",
              "      <td>data</td>\n",
              "    </tr>\n",
              "    <tr>\n",
              "      <th>1</th>\n",
              "      <td>1</td>\n",
              "      <td>15/10/14 06:58</td>\n",
              "      <td>13.000</td>\n",
              "      <td>call</td>\n",
              "      <td>2014-11</td>\n",
              "      <td>Vodafone</td>\n",
              "      <td>mobile</td>\n",
              "    </tr>\n",
              "    <tr>\n",
              "      <th>2</th>\n",
              "      <td>2</td>\n",
              "      <td>15/10/14 14:46</td>\n",
              "      <td>23.000</td>\n",
              "      <td>call</td>\n",
              "      <td>2014-11</td>\n",
              "      <td>Meteor</td>\n",
              "      <td>mobile</td>\n",
              "    </tr>\n",
              "    <tr>\n",
              "      <th>3</th>\n",
              "      <td>3</td>\n",
              "      <td>15/10/14 14:48</td>\n",
              "      <td>4.000</td>\n",
              "      <td>call</td>\n",
              "      <td>2014-11</td>\n",
              "      <td>Tesco</td>\n",
              "      <td>mobile</td>\n",
              "    </tr>\n",
              "    <tr>\n",
              "      <th>4</th>\n",
              "      <td>4</td>\n",
              "      <td>15/10/14 17:27</td>\n",
              "      <td>4.000</td>\n",
              "      <td>call</td>\n",
              "      <td>2014-11</td>\n",
              "      <td>Tesco</td>\n",
              "      <td>mobile</td>\n",
              "    </tr>\n",
              "  </tbody>\n",
              "</table>\n",
              "</div>\n",
              "    <div class=\"colab-df-buttons\">\n",
              "\n",
              "  <div class=\"colab-df-container\">\n",
              "    <button class=\"colab-df-convert\" onclick=\"convertToInteractive('df-7d404b12-d45a-47de-9e31-de0df15cd10c')\"\n",
              "            title=\"Convert this dataframe to an interactive table.\"\n",
              "            style=\"display:none;\">\n",
              "\n",
              "  <svg xmlns=\"http://www.w3.org/2000/svg\" height=\"24px\" viewBox=\"0 -960 960 960\">\n",
              "    <path d=\"M120-120v-720h720v720H120Zm60-500h600v-160H180v160Zm220 220h160v-160H400v160Zm0 220h160v-160H400v160ZM180-400h160v-160H180v160Zm440 0h160v-160H620v160ZM180-180h160v-160H180v160Zm440 0h160v-160H620v160Z\"/>\n",
              "  </svg>\n",
              "    </button>\n",
              "\n",
              "  <style>\n",
              "    .colab-df-container {\n",
              "      display:flex;\n",
              "      gap: 12px;\n",
              "    }\n",
              "\n",
              "    .colab-df-convert {\n",
              "      background-color: #E8F0FE;\n",
              "      border: none;\n",
              "      border-radius: 50%;\n",
              "      cursor: pointer;\n",
              "      display: none;\n",
              "      fill: #1967D2;\n",
              "      height: 32px;\n",
              "      padding: 0 0 0 0;\n",
              "      width: 32px;\n",
              "    }\n",
              "\n",
              "    .colab-df-convert:hover {\n",
              "      background-color: #E2EBFA;\n",
              "      box-shadow: 0px 1px 2px rgba(60, 64, 67, 0.3), 0px 1px 3px 1px rgba(60, 64, 67, 0.15);\n",
              "      fill: #174EA6;\n",
              "    }\n",
              "\n",
              "    .colab-df-buttons div {\n",
              "      margin-bottom: 4px;\n",
              "    }\n",
              "\n",
              "    [theme=dark] .colab-df-convert {\n",
              "      background-color: #3B4455;\n",
              "      fill: #D2E3FC;\n",
              "    }\n",
              "\n",
              "    [theme=dark] .colab-df-convert:hover {\n",
              "      background-color: #434B5C;\n",
              "      box-shadow: 0px 1px 3px 1px rgba(0, 0, 0, 0.15);\n",
              "      filter: drop-shadow(0px 1px 2px rgba(0, 0, 0, 0.3));\n",
              "      fill: #FFFFFF;\n",
              "    }\n",
              "  </style>\n",
              "\n",
              "    <script>\n",
              "      const buttonEl =\n",
              "        document.querySelector('#df-7d404b12-d45a-47de-9e31-de0df15cd10c button.colab-df-convert');\n",
              "      buttonEl.style.display =\n",
              "        google.colab.kernel.accessAllowed ? 'block' : 'none';\n",
              "\n",
              "      async function convertToInteractive(key) {\n",
              "        const element = document.querySelector('#df-7d404b12-d45a-47de-9e31-de0df15cd10c');\n",
              "        const dataTable =\n",
              "          await google.colab.kernel.invokeFunction('convertToInteractive',\n",
              "                                                    [key], {});\n",
              "        if (!dataTable) return;\n",
              "\n",
              "        const docLinkHtml = 'Like what you see? Visit the ' +\n",
              "          '<a target=\"_blank\" href=https://colab.research.google.com/notebooks/data_table.ipynb>data table notebook</a>'\n",
              "          + ' to learn more about interactive tables.';\n",
              "        element.innerHTML = '';\n",
              "        dataTable['output_type'] = 'display_data';\n",
              "        await google.colab.output.renderOutput(dataTable, element);\n",
              "        const docLink = document.createElement('div');\n",
              "        docLink.innerHTML = docLinkHtml;\n",
              "        element.appendChild(docLink);\n",
              "      }\n",
              "    </script>\n",
              "  </div>\n",
              "\n",
              "\n",
              "    <div id=\"df-ae9939e4-3281-43d3-a586-71b8b079a904\">\n",
              "      <button class=\"colab-df-quickchart\" onclick=\"quickchart('df-ae9939e4-3281-43d3-a586-71b8b079a904')\"\n",
              "                title=\"Suggest charts\"\n",
              "                style=\"display:none;\">\n",
              "\n",
              "<svg xmlns=\"http://www.w3.org/2000/svg\" height=\"24px\"viewBox=\"0 0 24 24\"\n",
              "     width=\"24px\">\n",
              "    <g>\n",
              "        <path d=\"M19 3H5c-1.1 0-2 .9-2 2v14c0 1.1.9 2 2 2h14c1.1 0 2-.9 2-2V5c0-1.1-.9-2-2-2zM9 17H7v-7h2v7zm4 0h-2V7h2v10zm4 0h-2v-4h2v4z\"/>\n",
              "    </g>\n",
              "</svg>\n",
              "      </button>\n",
              "\n",
              "<style>\n",
              "  .colab-df-quickchart {\n",
              "      --bg-color: #E8F0FE;\n",
              "      --fill-color: #1967D2;\n",
              "      --hover-bg-color: #E2EBFA;\n",
              "      --hover-fill-color: #174EA6;\n",
              "      --disabled-fill-color: #AAA;\n",
              "      --disabled-bg-color: #DDD;\n",
              "  }\n",
              "\n",
              "  [theme=dark] .colab-df-quickchart {\n",
              "      --bg-color: #3B4455;\n",
              "      --fill-color: #D2E3FC;\n",
              "      --hover-bg-color: #434B5C;\n",
              "      --hover-fill-color: #FFFFFF;\n",
              "      --disabled-bg-color: #3B4455;\n",
              "      --disabled-fill-color: #666;\n",
              "  }\n",
              "\n",
              "  .colab-df-quickchart {\n",
              "    background-color: var(--bg-color);\n",
              "    border: none;\n",
              "    border-radius: 50%;\n",
              "    cursor: pointer;\n",
              "    display: none;\n",
              "    fill: var(--fill-color);\n",
              "    height: 32px;\n",
              "    padding: 0;\n",
              "    width: 32px;\n",
              "  }\n",
              "\n",
              "  .colab-df-quickchart:hover {\n",
              "    background-color: var(--hover-bg-color);\n",
              "    box-shadow: 0 1px 2px rgba(60, 64, 67, 0.3), 0 1px 3px 1px rgba(60, 64, 67, 0.15);\n",
              "    fill: var(--button-hover-fill-color);\n",
              "  }\n",
              "\n",
              "  .colab-df-quickchart-complete:disabled,\n",
              "  .colab-df-quickchart-complete:disabled:hover {\n",
              "    background-color: var(--disabled-bg-color);\n",
              "    fill: var(--disabled-fill-color);\n",
              "    box-shadow: none;\n",
              "  }\n",
              "\n",
              "  .colab-df-spinner {\n",
              "    border: 2px solid var(--fill-color);\n",
              "    border-color: transparent;\n",
              "    border-bottom-color: var(--fill-color);\n",
              "    animation:\n",
              "      spin 1s steps(1) infinite;\n",
              "  }\n",
              "\n",
              "  @keyframes spin {\n",
              "    0% {\n",
              "      border-color: transparent;\n",
              "      border-bottom-color: var(--fill-color);\n",
              "      border-left-color: var(--fill-color);\n",
              "    }\n",
              "    20% {\n",
              "      border-color: transparent;\n",
              "      border-left-color: var(--fill-color);\n",
              "      border-top-color: var(--fill-color);\n",
              "    }\n",
              "    30% {\n",
              "      border-color: transparent;\n",
              "      border-left-color: var(--fill-color);\n",
              "      border-top-color: var(--fill-color);\n",
              "      border-right-color: var(--fill-color);\n",
              "    }\n",
              "    40% {\n",
              "      border-color: transparent;\n",
              "      border-right-color: var(--fill-color);\n",
              "      border-top-color: var(--fill-color);\n",
              "    }\n",
              "    60% {\n",
              "      border-color: transparent;\n",
              "      border-right-color: var(--fill-color);\n",
              "    }\n",
              "    80% {\n",
              "      border-color: transparent;\n",
              "      border-right-color: var(--fill-color);\n",
              "      border-bottom-color: var(--fill-color);\n",
              "    }\n",
              "    90% {\n",
              "      border-color: transparent;\n",
              "      border-bottom-color: var(--fill-color);\n",
              "    }\n",
              "  }\n",
              "</style>\n",
              "\n",
              "      <script>\n",
              "        async function quickchart(key) {\n",
              "          const quickchartButtonEl =\n",
              "            document.querySelector('#' + key + ' button');\n",
              "          quickchartButtonEl.disabled = true;  // To prevent multiple clicks.\n",
              "          quickchartButtonEl.classList.add('colab-df-spinner');\n",
              "          try {\n",
              "            const charts = await google.colab.kernel.invokeFunction(\n",
              "                'suggestCharts', [key], {});\n",
              "          } catch (error) {\n",
              "            console.error('Error during call to suggestCharts:', error);\n",
              "          }\n",
              "          quickchartButtonEl.classList.remove('colab-df-spinner');\n",
              "          quickchartButtonEl.classList.add('colab-df-quickchart-complete');\n",
              "        }\n",
              "        (() => {\n",
              "          let quickchartButtonEl =\n",
              "            document.querySelector('#df-ae9939e4-3281-43d3-a586-71b8b079a904 button');\n",
              "          quickchartButtonEl.style.display =\n",
              "            google.colab.kernel.accessAllowed ? 'block' : 'none';\n",
              "        })();\n",
              "      </script>\n",
              "    </div>\n",
              "\n",
              "    </div>\n",
              "  </div>\n"
            ],
            "application/vnd.google.colaboratory.intrinsic+json": {
              "type": "dataframe",
              "variable_name": "df",
              "summary": "{\n  \"name\": \"df\",\n  \"rows\": 830,\n  \"fields\": [\n    {\n      \"column\": \"index\",\n      \"properties\": {\n        \"dtype\": \"number\",\n        \"std\": 239,\n        \"min\": 0,\n        \"max\": 829,\n        \"num_unique_values\": 830,\n        \"samples\": [\n          608,\n          457,\n          290\n        ],\n        \"semantic_type\": \"\",\n        \"description\": \"\"\n      }\n    },\n    {\n      \"column\": \"date\",\n      \"properties\": {\n        \"dtype\": \"object\",\n        \"num_unique_values\": 747,\n        \"samples\": [\n          \"13/11/14 06:58\",\n          \"23/11/14 17:36\",\n          \"31/10/14 13:26\"\n        ],\n        \"semantic_type\": \"\",\n        \"description\": \"\"\n      }\n    },\n    {\n      \"column\": \"duration\",\n      \"properties\": {\n        \"dtype\": \"number\",\n        \"std\": 444.12956022283214,\n        \"min\": 1.0,\n        \"max\": 10528.0,\n        \"num_unique_values\": 221,\n        \"samples\": [\n          566.0,\n          16.0,\n          21.0\n        ],\n        \"semantic_type\": \"\",\n        \"description\": \"\"\n      }\n    },\n    {\n      \"column\": \"item\",\n      \"properties\": {\n        \"dtype\": \"category\",\n        \"num_unique_values\": 3,\n        \"samples\": [\n          \"data\",\n          \"call\",\n          \"sms\"\n        ],\n        \"semantic_type\": \"\",\n        \"description\": \"\"\n      }\n    },\n    {\n      \"column\": \"month\",\n      \"properties\": {\n        \"dtype\": \"object\",\n        \"num_unique_values\": 5,\n        \"samples\": [\n          \"2014-12\",\n          \"2015-03\",\n          \"2015-01\"\n        ],\n        \"semantic_type\": \"\",\n        \"description\": \"\"\n      }\n    },\n    {\n      \"column\": \"network\",\n      \"properties\": {\n        \"dtype\": \"category\",\n        \"num_unique_values\": 9,\n        \"samples\": [\n          \"special\",\n          \"Vodafone\",\n          \"voicemail\"\n        ],\n        \"semantic_type\": \"\",\n        \"description\": \"\"\n      }\n    },\n    {\n      \"column\": \"network_type\",\n      \"properties\": {\n        \"dtype\": \"category\",\n        \"num_unique_values\": 6,\n        \"samples\": [\n          \"data\",\n          \"mobile\",\n          \"world\"\n        ],\n        \"semantic_type\": \"\",\n        \"description\": \"\"\n      }\n    }\n  ]\n}"
            }
          },
          "metadata": {},
          "execution_count": 60
        }
      ]
    },
    {
      "cell_type": "markdown",
      "source": [
        "### Dataset Rows & Columns count"
      ],
      "metadata": {
        "id": "7hBIi_osiCS2"
      }
    },
    {
      "cell_type": "code",
      "source": [
        "df.info()"
      ],
      "metadata": {
        "id": "Kllu7SJgmLij",
        "colab": {
          "base_uri": "https://localhost:8080/"
        },
        "outputId": "22f001c3-84e6-40a1-ffd2-92d9e28eb915"
      },
      "execution_count": 61,
      "outputs": [
        {
          "output_type": "stream",
          "name": "stdout",
          "text": [
            "<class 'pandas.core.frame.DataFrame'>\n",
            "RangeIndex: 830 entries, 0 to 829\n",
            "Data columns (total 7 columns):\n",
            " #   Column        Non-Null Count  Dtype  \n",
            "---  ------        --------------  -----  \n",
            " 0   index         830 non-null    int64  \n",
            " 1   date          830 non-null    object \n",
            " 2   duration      830 non-null    float64\n",
            " 3   item          830 non-null    object \n",
            " 4   month         830 non-null    object \n",
            " 5   network       830 non-null    object \n",
            " 6   network_type  830 non-null    object \n",
            "dtypes: float64(1), int64(1), object(5)\n",
            "memory usage: 45.5+ KB\n"
          ]
        }
      ]
    },
    {
      "cell_type": "code",
      "source": [
        "df.shape"
      ],
      "metadata": {
        "id": "CqNCcWz7jIlL",
        "colab": {
          "base_uri": "https://localhost:8080/"
        },
        "outputId": "ef79cdc3-09f3-487a-8000-c0ed60529f2b"
      },
      "execution_count": 62,
      "outputs": [
        {
          "output_type": "execute_result",
          "data": {
            "text/plain": [
              "(830, 7)"
            ]
          },
          "metadata": {},
          "execution_count": 62
        }
      ]
    },
    {
      "cell_type": "markdown",
      "source": [
        "### Dataset Information"
      ],
      "metadata": {
        "id": "JlHwYmJAmNHm"
      }
    },
    {
      "cell_type": "code",
      "source": [
        "df.info()"
      ],
      "metadata": {
        "id": "e9hRXRi6meOf",
        "colab": {
          "base_uri": "https://localhost:8080/"
        },
        "outputId": "d85f5a6f-edc3-4526-90be-e6356241e811"
      },
      "execution_count": 63,
      "outputs": [
        {
          "output_type": "stream",
          "name": "stdout",
          "text": [
            "<class 'pandas.core.frame.DataFrame'>\n",
            "RangeIndex: 830 entries, 0 to 829\n",
            "Data columns (total 7 columns):\n",
            " #   Column        Non-Null Count  Dtype  \n",
            "---  ------        --------------  -----  \n",
            " 0   index         830 non-null    int64  \n",
            " 1   date          830 non-null    object \n",
            " 2   duration      830 non-null    float64\n",
            " 3   item          830 non-null    object \n",
            " 4   month         830 non-null    object \n",
            " 5   network       830 non-null    object \n",
            " 6   network_type  830 non-null    object \n",
            "dtypes: float64(1), int64(1), object(5)\n",
            "memory usage: 45.5+ KB\n"
          ]
        }
      ]
    },
    {
      "cell_type": "markdown",
      "source": [
        "#### Duplicate Values"
      ],
      "metadata": {
        "id": "35m5QtbWiB9F"
      }
    },
    {
      "cell_type": "code",
      "source": [
        "duplicate_count = df.duplicated().sum()\n",
        "print(f\"Total Duplicate Rows: {duplicate_count}\")"
      ],
      "metadata": {
        "id": "1sLdpKYkmox0",
        "colab": {
          "base_uri": "https://localhost:8080/"
        },
        "outputId": "2fc74b97-0e33-4732-ac6d-42f0e21f7c78"
      },
      "execution_count": 64,
      "outputs": [
        {
          "output_type": "stream",
          "name": "stdout",
          "text": [
            "Total Duplicate Rows: 0\n"
          ]
        }
      ]
    },
    {
      "cell_type": "markdown",
      "source": [
        "#### Missing Values/Null Values"
      ],
      "metadata": {
        "id": "PoPl-ycgm1ru"
      }
    },
    {
      "cell_type": "code",
      "source": [
        "df.isnull().sum()"
      ],
      "metadata": {
        "id": "GgHWkxvamxVg",
        "colab": {
          "base_uri": "https://localhost:8080/",
          "height": 303
        },
        "outputId": "99ae1e6c-4247-4796-ffce-113c5cbc0068"
      },
      "execution_count": 65,
      "outputs": [
        {
          "output_type": "execute_result",
          "data": {
            "text/plain": [
              "index           0\n",
              "date            0\n",
              "duration        0\n",
              "item            0\n",
              "month           0\n",
              "network         0\n",
              "network_type    0\n",
              "dtype: int64"
            ],
            "text/html": [
              "<div>\n",
              "<style scoped>\n",
              "    .dataframe tbody tr th:only-of-type {\n",
              "        vertical-align: middle;\n",
              "    }\n",
              "\n",
              "    .dataframe tbody tr th {\n",
              "        vertical-align: top;\n",
              "    }\n",
              "\n",
              "    .dataframe thead th {\n",
              "        text-align: right;\n",
              "    }\n",
              "</style>\n",
              "<table border=\"1\" class=\"dataframe\">\n",
              "  <thead>\n",
              "    <tr style=\"text-align: right;\">\n",
              "      <th></th>\n",
              "      <th>0</th>\n",
              "    </tr>\n",
              "  </thead>\n",
              "  <tbody>\n",
              "    <tr>\n",
              "      <th>index</th>\n",
              "      <td>0</td>\n",
              "    </tr>\n",
              "    <tr>\n",
              "      <th>date</th>\n",
              "      <td>0</td>\n",
              "    </tr>\n",
              "    <tr>\n",
              "      <th>duration</th>\n",
              "      <td>0</td>\n",
              "    </tr>\n",
              "    <tr>\n",
              "      <th>item</th>\n",
              "      <td>0</td>\n",
              "    </tr>\n",
              "    <tr>\n",
              "      <th>month</th>\n",
              "      <td>0</td>\n",
              "    </tr>\n",
              "    <tr>\n",
              "      <th>network</th>\n",
              "      <td>0</td>\n",
              "    </tr>\n",
              "    <tr>\n",
              "      <th>network_type</th>\n",
              "      <td>0</td>\n",
              "    </tr>\n",
              "  </tbody>\n",
              "</table>\n",
              "</div><br><label><b>dtype:</b> int64</label>"
            ]
          },
          "metadata": {},
          "execution_count": 65
        }
      ]
    },
    {
      "cell_type": "code",
      "source": [
        "plt.figure(figsize=(10, 6))\n",
        "sns.heatmap(df.isnull(), cbar=False, cmap='Reds', yticklabels=False)\n",
        "plt.title('Missing Values Heatmap')\n",
        "plt.show()"
      ],
      "metadata": {
        "id": "3q5wnI3om9sJ",
        "colab": {
          "base_uri": "https://localhost:8080/",
          "height": 550
        },
        "outputId": "ad7916d7-e3a4-44bc-babe-f0f63acfd49d"
      },
      "execution_count": 66,
      "outputs": [
        {
          "output_type": "display_data",
          "data": {
            "text/plain": [
              "<Figure size 1000x600 with 1 Axes>"
            ],
            "image/png": "[encoded data removed]"
          },
          "metadata": {}
        }
      ]
    },
    {
      "cell_type": "markdown",
      "source": [
        "### What did you know about your dataset?"
      ],
      "metadata": {
        "id": "H0kj-8xxnORC"
      }
    },
    {
      "cell_type": "markdown",
      "source": [
        "# `Answer Here`"
      ],
      "metadata": {
        "id": "gfoNAAC-nUe_"
      }
    },
    {
      "cell_type": "markdown",
      "source": [
        "## ***2. Understanding Your Variables***"
      ],
      "metadata": {
        "id": "nA9Y7ga8ng1Z"
      }
    },
    {
      "cell_type": "code",
      "source": [
        "df.columns"
      ],
      "metadata": {
        "id": "j7xfkqrt5Ag5",
        "colab": {
          "base_uri": "https://localhost:8080/"
        },
        "outputId": "71cd1594-9a0d-4bc9-ba6f-d7969b98b33b"
      },
      "execution_count": 67,
      "outputs": [
        {
          "output_type": "execute_result",
          "data": {
            "text/plain": [
              "Index(['index', 'date', 'duration', 'item', 'month', 'network',\n",
              "       'network_type'],\n",
              "      dtype='object')"
            ]
          },
          "metadata": {},
          "execution_count": 67
        }
      ]
    },
    {
      "cell_type": "code",
      "source": [
        "df.describe(include='all')"
      ],
      "metadata": {
        "id": "DnOaZdaE5Q5t",
        "colab": {
          "base_uri": "https://localhost:8080/",
          "height": 0
        },
        "outputId": "a36f681d-119f-4ccd-f2c7-08256fd9727f"
      },
      "execution_count": 68,
      "outputs": [
        {
          "output_type": "execute_result",
          "data": {
            "text/plain": [
              "             index            date      duration  item    month   network  \\\n",
              "count   830.000000             830    830.000000   830      830       830   \n",
              "unique         NaN             747           NaN     3        5         9   \n",
              "top            NaN  16/01/15 18:07           NaN  call  2014-11  Vodafone   \n",
              "freq           NaN               6           NaN   388      230       215   \n",
              "mean    414.500000             NaN    117.804036   NaN      NaN       NaN   \n",
              "std     239.744656             NaN    444.129560   NaN      NaN       NaN   \n",
              "min       0.000000             NaN      1.000000   NaN      NaN       NaN   \n",
              "25%     207.250000             NaN      1.000000   NaN      NaN       NaN   \n",
              "50%     414.500000             NaN     24.500000   NaN      NaN       NaN   \n",
              "75%     621.750000             NaN     55.000000   NaN      NaN       NaN   \n",
              "max     829.000000             NaN  10528.000000   NaN      NaN       NaN   \n",
              "\n",
              "       network_type  \n",
              "count           830  \n",
              "unique            6  \n",
              "top          mobile  \n",
              "freq            601  \n",
              "mean            NaN  \n",
              "std             NaN  \n",
              "min             NaN  \n",
              "25%             NaN  \n",
              "50%             NaN  \n",
              "75%             NaN  \n",
              "max             NaN  "
            ],
            "text/html": [
              "\n",
              "  <div id=\"df-fc90d2b9-f479-4e61-80f4-1ce92e963805\" class=\"colab-df-container\">\n",
              "    <div>\n",
              "<style scoped>\n",
              "    .dataframe tbody tr th:only-of-type {\n",
              "        vertical-align: middle;\n",
              "    }\n",
              "\n",
              "    .dataframe tbody tr th {\n",
              "        vertical-align: top;\n",
              "    }\n",
              "\n",
              "    .dataframe thead th {\n",
              "        text-align: right;\n",
              "    }\n",
              "</style>\n",
              "<table border=\"1\" class=\"dataframe\">\n",
              "  <thead>\n",
              "    <tr style=\"text-align: right;\">\n",
              "      <th></th>\n",
              "      <th>index</th>\n",
              "      <th>date</th>\n",
              "      <th>duration</th>\n",
              "      <th>item</th>\n",
              "      <th>month</th>\n",
              "      <th>network</th>\n",
              "      <th>network_type</th>\n",
              "    </tr>\n",
              "  </thead>\n",
              "  <tbody>\n",
              "    <tr>\n",
              "      <th>count</th>\n",
              "      <td>830.000000</td>\n",
              "      <td>830</td>\n",
              "      <td>830.000000</td>\n",
              "      <td>830</td>\n",
              "      <td>830</td>\n",
              "      <td>830</td>\n",
              "      <td>830</td>\n",
              "    </tr>\n",
              "    <tr>\n",
              "      <th>unique</th>\n",
              "      <td>NaN</td>\n",
              "      <td>747</td>\n",
              "      <td>NaN</td>\n",
              "      <td>3</td>\n",
              "      <td>5</td>\n",
              "      <td>9</td>\n",
              "      <td>6</td>\n",
              "    </tr>\n",
              "    <tr>\n",
              "      <th>top</th>\n",
              "      <td>NaN</td>\n",
              "      <td>16/01/15 18:07</td>\n",
              "      <td>NaN</td>\n",
              "      <td>call</td>\n",
              "      <td>2014-11</td>\n",
              "      <td>Vodafone</td>\n",
              "      <td>mobile</td>\n",
              "    </tr>\n",
              "    <tr>\n",
              "      <th>freq</th>\n",
              "      <td>NaN</td>\n",
              "      <td>6</td>\n",
              "      <td>NaN</td>\n",
              "      <td>388</td>\n",
              "      <td>230</td>\n",
              "      <td>215</td>\n",
              "      <td>601</td>\n",
              "    </tr>\n",
              "    <tr>\n",
              "      <th>mean</th>\n",
              "      <td>414.500000</td>\n",
              "      <td>NaN</td>\n",
              "      <td>117.804036</td>\n",
              "      <td>NaN</td>\n",
              "      <td>NaN</td>\n",
              "      <td>NaN</td>\n",
              "      <td>NaN</td>\n",
              "    </tr>\n",
              "    <tr>\n",
              "      <th>std</th>\n",
              "      <td>239.744656</td>\n",
              "      <td>NaN</td>\n",
              "      <td>444.129560</td>\n",
              "      <td>NaN</td>\n",
              "      <td>NaN</td>\n",
              "      <td>NaN</td>\n",
              "      <td>NaN</td>\n",
              "    </tr>\n",
              "    <tr>\n",
              "      <th>min</th>\n",
              "      <td>0.000000</td>\n",
              "      <td>NaN</td>\n",
              "      <td>1.000000</td>\n",
              "      <td>NaN</td>\n",
              "      <td>NaN</td>\n",
              "      <td>NaN</td>\n",
              "      <td>NaN</td>\n",
              "    </tr>\n",
              "    <tr>\n",
              "      <th>25%</th>\n",
              "      <td>207.250000</td>\n",
              "      <td>NaN</td>\n",
              "      <td>1.000000</td>\n",
              "      <td>NaN</td>\n",
              "      <td>NaN</td>\n",
              "      <td>NaN</td>\n",
              "      <td>NaN</td>\n",
              "    </tr>\n",
              "    <tr>\n",
              "      <th>50%</th>\n",
              "      <td>414.500000</td>\n",
              "      <td>NaN</td>\n",
              "      <td>24.500000</td>\n",
              "      <td>NaN</td>\n",
              "      <td>NaN</td>\n",
              "      <td>NaN</td>\n",
              "      <td>NaN</td>\n",
              "    </tr>\n",
              "    <tr>\n",
              "      <th>75%</th>\n",
              "      <td>621.750000</td>\n",
              "      <td>NaN</td>\n",
              "      <td>55.000000</td>\n",
              "      <td>NaN</td>\n",
              "      <td>NaN</td>\n",
              "      <td>NaN</td>\n",
              "      <td>NaN</td>\n",
              "    </tr>\n",
              "    <tr>\n",
              "      <th>max</th>\n",
              "      <td>829.000000</td>\n",
              "      <td>NaN</td>\n",
              "      <td>10528.000000</td>\n",
              "      <td>NaN</td>\n",
              "      <td>NaN</td>\n",
              "      <td>NaN</td>\n",
              "      <td>NaN</td>\n",
              "    </tr>\n",
              "  </tbody>\n",
              "</table>\n",
              "</div>\n",
              "    <div class=\"colab-df-buttons\">\n",
              "\n",
              "  <div class=\"colab-df-container\">\n",
              "    <button class=\"colab-df-convert\" onclick=\"convertToInteractive('df-fc90d2b9-f479-4e61-80f4-1ce92e963805')\"\n",
              "            title=\"Convert this dataframe to an interactive table.\"\n",
              "            style=\"display:none;\">\n",
              "\n",
              "  <svg xmlns=\"http://www.w3.org/2000/svg\" height=\"24px\" viewBox=\"0 -960 960 960\">\n",
              "    <path d=\"M120-120v-720h720v720H120Zm60-500h600v-160H180v160Zm220 220h160v-160H400v160Zm0 220h160v-160H400v160ZM180-400h160v-160H180v160Zm440 0h160v-160H620v160ZM180-180h160v-160H180v160Zm440 0h160v-160H620v160Z\"/>\n",
              "  </svg>\n",
              "    </button>\n",
              "\n",
              "  <style>\n",
              "    .colab-df-container {\n",
              "      display:flex;\n",
              "      gap: 12px;\n",
              "    }\n",
              "\n",
              "    .colab-df-convert {\n",
              "      background-color: #E8F0FE;\n",
              "      border: none;\n",
              "      border-radius: 50%;\n",
              "      cursor: pointer;\n",
              "      display: none;\n",
              "      fill: #1967D2;\n",
              "      height: 32px;\n",
              "      padding: 0 0 0 0;\n",
              "      width: 32px;\n",
              "    }\n",
              "\n",
              "    .colab-df-convert:hover {\n",
              "      background-color: #E2EBFA;\n",
              "      box-shadow: 0px 1px 2px rgba(60, 64, 67, 0.3), 0px 1px 3px 1px rgba(60, 64, 67, 0.15);\n",
              "      fill: #174EA6;\n",
              "    }\n",
              "\n",
              "    .colab-df-buttons div {\n",
              "      margin-bottom: 4px;\n",
              "    }\n",
              "\n",
              "    [theme=dark] .colab-df-convert {\n",
              "      background-color: #3B4455;\n",
              "      fill: #D2E3FC;\n",
              "    }\n",
              "\n",
              "    [theme=dark] .colab-df-convert:hover {\n",
              "      background-color: #434B5C;\n",
              "      box-shadow: 0px 1px 3px 1px rgba(0, 0, 0, 0.15);\n",
              "      filter: drop-shadow(0px 1px 2px rgba(0, 0, 0, 0.3));\n",
              "      fill: #FFFFFF;\n",
              "    }\n",
              "  </style>\n",
              "\n",
              "    <script>\n",
              "      const buttonEl =\n",
              "        document.querySelector('#df-fc90d2b9-f479-4e61-80f4-1ce92e963805 button.colab-df-convert');\n",
              "      buttonEl.style.display =\n",
              "        google.colab.kernel.accessAllowed ? 'block' : 'none';\n",
              "\n",
              "      async function convertToInteractive(key) {\n",
              "        const element = document.querySelector('#df-fc90d2b9-f479-4e61-80f4-1ce92e963805');\n",
              "        const dataTable =\n",
              "          await google.colab.kernel.invokeFunction('convertToInteractive',\n",
              "                                                    [key], {});\n",
              "        if (!dataTable) return;\n",
              "\n",
              "        const docLinkHtml = 'Like what you see? Visit the ' +\n",
              "          '<a target=\"_blank\" href=https://colab.research.google.com/notebooks/data_table.ipynb>data table notebook</a>'\n",
              "          + ' to learn more about interactive tables.';\n",
              "        element.innerHTML = '';\n",
              "        dataTable['output_type'] = 'display_data';\n",
              "        await google.colab.output.renderOutput(dataTable, element);\n",
              "        const docLink = document.createElement('div');\n",
              "        docLink.innerHTML = docLinkHtml;\n",
              "        element.appendChild(docLink);\n",
              "      }\n",
              "    </script>\n",
              "  </div>\n",
              "\n",
              "\n",
              "    <div id=\"df-1dd44c31-bf32-402a-91de-a18422605dcd\">\n",
              "      <button class=\"colab-df-quickchart\" onclick=\"quickchart('df-1dd44c31-bf32-402a-91de-a18422605dcd')\"\n",
              "                title=\"Suggest charts\"\n",
              "                style=\"display:none;\">\n",
              "\n",
              "<svg xmlns=\"http://www.w3.org/2000/svg\" height=\"24px\"viewBox=\"0 0 24 24\"\n",
              "     width=\"24px\">\n",
              "    <g>\n",
              "        <path d=\"M19 3H5c-1.1 0-2 .9-2 2v14c0 1.1.9 2 2 2h14c1.1 0 2-.9 2-2V5c0-1.1-.9-2-2-2zM9 17H7v-7h2v7zm4 0h-2V7h2v10zm4 0h-2v-4h2v4z\"/>\n",
              "    </g>\n",
              "</svg>\n",
              "      </button>\n",
              "\n",
              "<style>\n",
              "  .colab-df-quickchart {\n",
              "      --bg-color: #E8F0FE;\n",
              "      --fill-color: #1967D2;\n",
              "      --hover-bg-color: #E2EBFA;\n",
              "      --hover-fill-color: #174EA6;\n",
              "      --disabled-fill-color: #AAA;\n",
              "      --disabled-bg-color: #DDD;\n",
              "  }\n",
              "\n",
              "  [theme=dark] .colab-df-quickchart {\n",
              "      --bg-color: #3B4455;\n",
              "      --fill-color: #D2E3FC;\n",
              "      --hover-bg-color: #434B5C;\n",
              "      --hover-fill-color: #FFFFFF;\n",
              "      --disabled-bg-color: #3B4455;\n",
              "      --disabled-fill-color: #666;\n",
              "  }\n",
              "\n",
              "  .colab-df-quickchart {\n",
              "    background-color: var(--bg-color);\n",
              "    border: none;\n",
              "    border-radius: 50%;\n",
              "    cursor: pointer;\n",
              "    display: none;\n",
              "    fill: var(--fill-color);\n",
              "    height: 32px;\n",
              "    padding: 0;\n",
              "    width: 32px;\n",
              "  }\n",
              "\n",
              "  .colab-df-quickchart:hover {\n",
              "    background-color: var(--hover-bg-color);\n",
              "    box-shadow: 0 1px 2px rgba(60, 64, 67, 0.3), 0 1px 3px 1px rgba(60, 64, 67, 0.15);\n",
              "    fill: var(--button-hover-fill-color);\n",
              "  }\n",
              "\n",
              "  .colab-df-quickchart-complete:disabled,\n",
              "  .colab-df-quickchart-complete:disabled:hover {\n",
              "    background-color: var(--disabled-bg-color);\n",
              "    fill: var(--disabled-fill-color);\n",
              "    box-shadow: none;\n",
              "  }\n",
              "\n",
              "  .colab-df-spinner {\n",
              "    border: 2px solid var(--fill-color);\n",
              "    border-color: transparent;\n",
              "    border-bottom-color: var(--fill-color);\n",
              "    animation:\n",
              "      spin 1s steps(1) infinite;\n",
              "  }\n",
              "\n",
              "  @keyframes spin {\n",
              "    0% {\n",
              "      border-color: transparent;\n",
              "      border-bottom-color: var(--fill-color);\n",
              "      border-left-color: var(--fill-color);\n",
              "    }\n",
              "    20% {\n",
              "      border-color: transparent;\n",
              "      border-left-color: var(--fill-color);\n",
              "      border-top-color: var(--fill-color);\n",
              "    }\n",
              "    30% {\n",
              "      border-color: transparent;\n",
              "      border-left-color: var(--fill-color);\n",
              "      border-top-color: var(--fill-color);\n",
              "      border-right-color: var(--fill-color);\n",
              "    }\n",
              "    40% {\n",
              "      border-color: transparent;\n",
              "      border-right-color: var(--fill-color);\n",
              "      border-top-color: var(--fill-color);\n",
              "    }\n",
              "    60% {\n",
              "      border-color: transparent;\n",
              "      border-right-color: var(--fill-color);\n",
              "    }\n",
              "    80% {\n",
              "      border-color: transparent;\n",
              "      border-right-color: var(--fill-color);\n",
              "      border-bottom-color: var(--fill-color);\n",
              "    }\n",
              "    90% {\n",
              "      border-color: transparent;\n",
              "      border-bottom-color: var(--fill-color);\n",
              "    }\n",
              "  }\n",
              "</style>\n",
              "\n",
              "      <script>\n",
              "        async function quickchart(key) {\n",
              "          const quickchartButtonEl =\n",
              "            document.querySelector('#' + key + ' button');\n",
              "          quickchartButtonEl.disabled = true;  // To prevent multiple clicks.\n",
              "          quickchartButtonEl.classList.add('colab-df-spinner');\n",
              "          try {\n",
              "            const charts = await google.colab.kernel.invokeFunction(\n",
              "                'suggestCharts', [key], {});\n",
              "          } catch (error) {\n",
              "            console.error('Error during call to suggestCharts:', error);\n",
              "          }\n",
              "          quickchartButtonEl.classList.remove('colab-df-spinner');\n",
              "          quickchartButtonEl.classList.add('colab-df-quickchart-complete');\n",
              "        }\n",
              "        (() => {\n",
              "          let quickchartButtonEl =\n",
              "            document.querySelector('#df-1dd44c31-bf32-402a-91de-a18422605dcd button');\n",
              "          quickchartButtonEl.style.display =\n",
              "            google.colab.kernel.accessAllowed ? 'block' : 'none';\n",
              "        })();\n",
              "      </script>\n",
              "    </div>\n",
              "\n",
              "    </div>\n",
              "  </div>\n"
            ],
            "application/vnd.google.colaboratory.intrinsic+json": {
              "type": "dataframe",
              "summary": "{\n  \"name\": \"df\",\n  \"rows\": 11,\n  \"fields\": [\n    {\n      \"column\": \"index\",\n      \"properties\": {\n        \"dtype\": \"number\",\n        \"std\": 298.9172261564159,\n        \"min\": 0.0,\n        \"max\": 830.0,\n        \"num_unique_values\": 7,\n        \"samples\": [\n          830.0,\n          414.5,\n          621.75\n        ],\n        \"semantic_type\": \"\",\n        \"description\": \"\"\n      }\n    },\n    {\n      \"column\": \"date\",\n      \"properties\": {\n        \"dtype\": \"date\",\n        \"min\": \"1970-01-01 00:00:00.000000006\",\n        \"max\": \"2015-01-16 18:07:00\",\n        \"num_unique_values\": 4,\n        \"samples\": [\n          747,\n          \"6\",\n          \"830\"\n        ],\n        \"semantic_type\": \"\",\n        \"description\": \"\"\n      }\n    },\n    {\n      \"column\": \"duration\",\n      \"properties\": {\n        \"dtype\": \"number\",\n        \"std\": 3659.3937644133985,\n        \"min\": 1.0,\n        \"max\": 10528.0,\n        \"num_unique_values\": 7,\n        \"samples\": [\n          830.0,\n          117.80403614457833,\n          55.0\n        ],\n        \"semantic_type\": \"\",\n        \"description\": \"\"\n      }\n    },\n    {\n      \"column\": \"item\",\n      \"properties\": {\n        \"dtype\": \"category\",\n        \"num_unique_values\": 4,\n        \"samples\": [\n          3,\n          \"388\",\n          \"830\"\n        ],\n        \"semantic_type\": \"\",\n        \"description\": \"\"\n      }\n    },\n    {\n      \"column\": \"month\",\n      \"properties\": {\n        \"dtype\": \"date\",\n        \"min\": \"1970-01-01 00:00:00.000000005\",\n        \"max\": \"2014-11-01 00:00:00\",\n        \"num_unique_values\": 4,\n        \"samples\": [\n          5,\n          \"230\",\n          \"830\"\n        ],\n        \"semantic_type\": \"\",\n        \"description\": \"\"\n      }\n    },\n    {\n      \"column\": \"network\",\n      \"properties\": {\n        \"dtype\": \"category\",\n        \"num_unique_values\": 4,\n        \"samples\": [\n          9,\n          \"215\",\n          \"830\"\n        ],\n        \"semantic_type\": \"\",\n        \"description\": \"\"\n      }\n    },\n    {\n      \"column\": \"network_type\",\n      \"properties\": {\n        \"dtype\": \"category\",\n        \"num_unique_values\": 4,\n        \"samples\": [\n          6,\n          \"601\",\n          \"830\"\n        ],\n        \"semantic_type\": \"\",\n        \"description\": \"\"\n      }\n    }\n  ]\n}"
            }
          },
          "metadata": {},
          "execution_count": 68
        }
      ]
    },
    {
      "cell_type": "markdown",
      "source": [
        "### Variables Description"
      ],
      "metadata": {
        "id": "PBTbrJXOngz2"
      }
    },
    {
      "cell_type": "markdown",
      "source": [
        "| 🔢 Variable    | 📝 Description                                                             |\n",
        "| -------------- | -------------------------------------------------------------------------- |\n",
        "| `index`        | Row number or unique ID for each record. Not needed for analysis.          |\n",
        "| `date`         | Date and time of the phone activity (format: `DD/MM/YY HH:MM`).            |\n",
        "| `duration`     | Duration (in seconds) of the activity (call or data session).              |\n",
        "| `item`         | Type of activity: `'call'` or `'data'`.                                    |\n",
        "| `month`        | Month when the activity occurred (format: `YYYY-MM`).                      |\n",
        "| `network`      | Network provider used during the activity (e.g., Vodafone, Tesco, Meteor). |\n",
        "| `network_type` | Type of network connection used: `'mobile'`, `'wifi'`, or `'data'`.        |\n"
      ],
      "metadata": {
        "id": "aJV4KIxSnxay"
      }
    },
    {
      "cell_type": "markdown",
      "source": [
        "### Check Unique Values for each variable."
      ],
      "metadata": {
        "id": "u3PMJOP6ngxN"
      }
    },
    {
      "cell_type": "code",
      "source": [
        "df['date'].unique()\n",
        "df['item'].unique()\n",
        "df['duration'].unique()\n",
        "df['month'].unique()\n",
        "df['network'].unique()\n",
        "df['network_type'].unique()\n",
        "\n",
        "print(\"Number of unique values per column:\\n\")\n",
        "print(df.nunique())\n",
        "\n",
        "print(\"\\nUnique values in each categorical column:\\n\")\n",
        "for col in df.select_dtypes(include='object').columns:\n",
        "    print(f\"{col} {df[col].unique()}\\n\")"
      ],
      "metadata": {
        "id": "zms12Yq5n-jE",
        "colab": {
          "base_uri": "https://localhost:8080/"
        },
        "outputId": "bdb5343f-9407-4d43-a60d-c759e0f8df94"
      },
      "execution_count": 69,
      "outputs": [
        {
          "output_type": "stream",
          "name": "stdout",
          "text": [
            "Number of unique values per column:\n",
            "\n",
            "index           830\n",
            "date            747\n",
            "duration        221\n",
            "item              3\n",
            "month             5\n",
            "network           9\n",
            "network_type      6\n",
            "dtype: int64\n",
            "\n",
            "Unique values in each categorical column:\n",
            "\n",
            "date ['15/10/14 06:58' '15/10/14 14:46' '15/10/14 14:48' '15/10/14 17:27'\n",
            " '15/10/14 18:55' '16/10/14 06:58' '16/10/14 15:01' '16/10/14 15:12'\n",
            " '16/10/14 15:30' '16/10/14 16:21' '16/10/14 22:18' '16/10/14 22:21'\n",
            " '17/10/14 06:58' '17/10/14 10:53' '17/10/14 11:19' '17/10/14 11:20'\n",
            " '17/10/14 17:22' '17/10/14 17:23' '17/10/14 17:26' '17/10/14 17:29'\n",
            " '17/10/14 17:30' '17/10/14 17:42' '17/10/14 17:44' '18/10/14 06:58'\n",
            " '18/10/14 11:51' '18/10/14 12:06' '18/10/14 13:08' '18/10/14 13:10'\n",
            " '18/10/14 14:01' '18/10/14 18:52' '18/10/14 20:44' '18/10/14 21:04'\n",
            " '18/10/14 21:06' '18/10/14 21:23' '18/10/14 22:37' '19/10/14 06:58'\n",
            " '19/10/14 14:47' '19/10/14 15:46' '19/10/14 16:21' '19/10/14 16:30'\n",
            " '19/10/14 20:25' '20/10/14 06:58' '20/10/14 09:43' '20/10/14 13:55'\n",
            " '20/10/14 13:56' '20/10/14 18:14' '20/10/14 18:24' '20/10/14 19:59'\n",
            " '20/10/14 20:16' '21/10/14 06:58' '21/10/14 16:17' '22/10/14 06:58'\n",
            " '22/10/14 12:04' '23/10/14 06:58' '23/10/14 08:34' '23/10/14 09:45'\n",
            " '23/10/14 10:46' '23/10/14 10:54' '23/10/14 11:17' '23/10/14 11:25'\n",
            " '23/10/14 17:48' '24/10/14 06:58' '24/10/14 13:35' '24/10/14 13:39'\n",
            " '24/10/14 13:47' '24/10/14 13:48' '24/10/14 13:50' '24/10/14 13:57'\n",
            " '24/10/14 14:20' '24/10/14 14:27' '24/10/14 18:29' '24/10/14 18:33'\n",
            " '24/10/14 18:40' '25/10/14 06:58' '26/10/14 06:58' '26/10/14 14:51'\n",
            " '26/10/14 21:10' '26/10/14 21:22' '26/10/14 21:38' '27/10/14 01:45'\n",
            " '27/10/14 06:58' '27/10/14 11:03' '27/10/14 16:30' '27/10/14 19:20'\n",
            " '27/10/14 19:55' '28/10/14 06:58' '28/10/14 16:39' '28/10/14 20:44'\n",
            " '29/10/14 06:58' '29/10/14 12:56' '30/10/14 06:58' '30/10/14 14:31'\n",
            " '30/10/14 19:48' '30/10/14 20:02' '31/10/14 06:58' '31/10/14 07:46'\n",
            " '31/10/14 08:00' '31/10/14 13:26' '31/10/14 13:27' '31/10/14 14:10'\n",
            " '31/10/14 18:29' '31/10/14 18:30' '31/10/14 18:39' '01/11/14 06:58'\n",
            " '01/11/14 15:13' '01/11/14 17:54' '02/11/14 06:58' '02/11/14 14:34'\n",
            " '02/11/14 15:44' '02/11/14 19:16' '02/11/14 21:42' '02/11/14 22:55'\n",
            " '03/11/14 06:58' '03/11/14 08:40' '03/11/14 10:30' '03/11/14 10:37'\n",
            " '03/11/14 10:47' '03/11/14 14:04' '03/11/14 15:27' '03/11/14 16:07'\n",
            " '03/11/14 16:10' '03/11/14 17:03' '03/11/14 22:36' '04/11/14 06:58'\n",
            " '04/11/14 11:58' '04/11/14 13:12' '04/11/14 14:05' '04/11/14 14:26'\n",
            " '04/11/14 16:13' '04/11/14 16:19' '04/11/14 16:22' '04/11/14 16:24'\n",
            " '04/11/14 16:34' '04/11/14 16:39' '04/11/14 16:41' '04/11/14 16:45'\n",
            " '04/11/14 18:26' '04/11/14 20:15' '04/11/14 20:16' '05/11/14 06:58'\n",
            " '05/11/14 10:59' '05/11/14 11:30' '05/11/14 11:43' '05/11/14 12:43'\n",
            " '05/11/14 19:35' '06/11/14 01:02' '06/11/14 06:58' '06/11/14 09:04'\n",
            " '06/11/14 09:05' '06/11/14 09:47' '06/11/14 09:50' '06/11/14 09:52'\n",
            " '06/11/14 09:54' '06/11/14 11:47' '06/11/14 14:52' '06/11/14 18:02'\n",
            " '06/11/14 18:07' '07/11/14 06:58' '07/11/14 09:33' '07/11/14 17:51'\n",
            " '07/11/14 21:04' '07/11/14 21:10' '07/11/14 21:12' '07/11/14 21:19'\n",
            " '07/11/14 21:25' '07/11/14 21:31' '07/11/14 22:04' '08/11/14 06:58'\n",
            " '08/11/14 16:33' '08/11/14 18:18' '09/11/14 01:41' '09/11/14 01:49'\n",
            " '09/11/14 01:50' '09/11/14 02:04' '09/11/14 06:58' '09/11/14 19:21'\n",
            " '09/11/14 22:09' '10/11/14 06:58' '10/11/14 09:29' '10/11/14 11:36'\n",
            " '10/11/14 14:59' '10/11/14 15:15' '10/11/14 18:19' '10/11/14 18:34'\n",
            " '11/11/14 06:58' '11/11/14 09:28' '11/11/14 11:32' '11/11/14 11:37'\n",
            " '11/11/14 12:39' '11/11/14 14:13' '11/11/14 14:20' '11/11/14 14:41'\n",
            " '11/11/14 19:56' '12/11/14 06:58' '12/11/14 10:48' '12/11/14 10:49'\n",
            " '12/11/14 12:04' '12/11/14 13:49' '12/11/14 16:16' '12/11/14 16:19'\n",
            " '12/11/14 16:42' '12/11/14 17:14' '12/11/14 17:49' '12/11/14 17:56'\n",
            " '12/11/14 17:59' '12/11/14 19:01' '12/11/14 19:18' '12/11/14 19:20'\n",
            " '13/11/14 06:58' '13/11/14 22:30' '13/11/14 22:31' '14/11/14 06:58'\n",
            " '14/11/14 17:24' '14/11/14 17:28' '15/11/14 06:58' '16/11/14 06:58'\n",
            " '16/11/14 14:05' '17/11/14 06:58' '18/11/14 06:58' '18/11/14 08:22'\n",
            " '18/11/14 08:29' '18/11/14 08:33' '18/11/14 08:34' '18/11/14 08:39'\n",
            " '18/11/14 08:42' '18/11/14 08:45' '18/11/14 09:35' '19/11/14 06:58'\n",
            " '19/11/14 14:05' '19/11/14 14:11' '19/11/14 18:56' '19/11/14 22:48'\n",
            " '20/11/14 06:58' '20/11/14 14:57' '20/11/14 14:59' '20/11/14 16:22'\n",
            " '20/11/14 19:08' '20/11/14 21:03' '21/11/14 00:17' '21/11/14 01:13'\n",
            " '21/11/14 06:58' '21/11/14 10:29' '21/11/14 10:30' '21/11/14 11:29'\n",
            " '21/11/14 11:31' '21/11/14 11:49' '21/11/14 11:50' '21/11/14 13:31'\n",
            " '21/11/14 18:07' '22/11/14 02:10' '22/11/14 06:58' '22/11/14 12:02'\n",
            " '22/11/14 12:10' '22/11/14 14:30' '22/11/14 14:33' '22/11/14 14:34'\n",
            " '23/11/14 06:58' '23/11/14 13:24' '23/11/14 16:10' '23/11/14 17:36'\n",
            " '23/11/14 17:53' '23/11/14 17:54' '24/11/14 06:58' '24/11/14 09:40'\n",
            " '24/11/14 12:24' '25/11/14 06:58' '25/11/14 11:25' '25/11/14 16:09'\n",
            " '25/11/14 16:19' '25/11/14 17:10' '25/11/14 18:06' '25/11/14 18:18'\n",
            " '25/11/14 18:47' '25/11/14 19:10' '25/11/14 19:20' '25/11/14 19:21'\n",
            " '25/11/14 19:25' '25/11/14 19:26' '25/11/14 20:39' '26/11/14 06:58'\n",
            " '26/11/14 07:03' '26/11/14 07:15' '26/11/14 07:57' '26/11/14 07:59'\n",
            " '26/11/14 08:00' '26/11/14 08:13' '26/11/14 08:16' '26/11/14 08:26'\n",
            " '26/11/14 08:27' '26/11/14 09:01' '26/11/14 11:53' '26/11/14 11:54'\n",
            " '26/11/14 11:56' '26/11/14 17:48' '27/11/14 06:58' '27/11/14 16:53'\n",
            " '27/11/14 18:38' '28/11/14 06:58' '28/11/14 13:05' '28/11/14 13:12'\n",
            " '28/11/14 19:03' '29/11/14 06:58' '29/11/14 14:44' '30/11/14 06:58'\n",
            " '30/11/14 11:45' '30/11/14 11:48' '30/11/14 12:06' '30/11/14 14:24'\n",
            " '30/11/14 14:44' '30/11/14 14:51' '01/12/14 06:58' '01/12/14 12:51'\n",
            " '01/12/14 12:59' '02/12/14 06:58' '02/12/14 11:40' '03/12/14 06:58'\n",
            " '03/12/14 15:01' '03/12/14 18:10' '04/12/14 06:58' '04/12/14 13:52'\n",
            " '04/12/14 15:34' '04/12/14 16:02' '04/12/14 23:41' '05/12/14 06:58'\n",
            " '05/12/14 16:49' '05/12/14 18:17' '05/12/14 18:25' '06/12/14 06:58'\n",
            " '06/12/14 11:33' '06/12/14 18:25' '06/12/14 18:26' '06/12/14 18:27'\n",
            " '06/12/14 18:28' '06/12/14 19:40' '07/12/14 06:58' '07/12/14 13:03'\n",
            " '07/12/14 13:45' '07/12/14 14:39' '07/12/14 20:23' '07/12/14 20:36'\n",
            " '07/12/14 20:37' '07/12/14 23:22' '08/12/14 06:58' '08/12/14 17:38'\n",
            " '09/12/14 06:58' '09/12/14 18:32' '10/12/14 06:58' '11/12/14 06:58'\n",
            " '12/12/14 06:58' '12/12/14 11:00' '12/12/14 18:14' '13/12/14 06:58'\n",
            " '13/12/14 14:56' '14/12/14 02:05' '14/12/14 02:07' '14/12/14 02:09'\n",
            " '14/12/14 06:58' '14/12/14 15:28' '14/12/14 19:54' '15/12/14 06:58'\n",
            " '15/12/14 19:56' '15/12/14 19:58' '15/12/14 20:03' '15/12/14 20:10'\n",
            " '15/12/14 23:12' '16/12/14 06:58' '17/12/14 06:58' '17/12/14 18:08'\n",
            " '17/12/14 23:26' '18/12/14 06:58' '18/12/14 12:36' '18/12/14 15:46'\n",
            " '18/12/14 15:57' '18/12/14 16:10' '18/12/14 17:54' '18/12/14 19:05'\n",
            " '18/12/14 21:58' '18/12/14 21:59' '19/12/14 06:58' '19/12/14 08:57'\n",
            " '19/12/14 10:14' '19/12/14 12:40' '19/12/14 12:41' '19/12/14 14:48'\n",
            " '19/12/14 16:49' '19/12/14 16:51' '19/12/14 17:00' '19/12/14 18:44'\n",
            " '20/12/14 06:58' '20/12/14 14:39' '20/12/14 15:20' '20/12/14 15:53'\n",
            " '20/12/14 16:09' '21/12/14 00:05' '21/12/14 06:58' '22/12/14 06:58'\n",
            " '22/12/14 10:42' '22/12/14 11:22' '22/12/14 13:33' '22/12/14 14:09'\n",
            " '22/12/14 14:15' '22/12/14 18:03' '22/12/14 19:10' '22/12/14 19:12'\n",
            " '22/12/14 19:35' '22/12/14 19:36' '22/12/14 23:12' '23/12/14 00:57'\n",
            " '23/12/14 06:58' '23/12/14 09:17' '23/12/14 11:03' '23/12/14 12:49'\n",
            " '23/12/14 15:39' '23/12/14 15:40' '23/12/14 15:43' '23/12/14 19:45'\n",
            " '23/12/14 20:02' '23/12/14 21:06' '24/12/14 06:58' '24/12/14 13:22'\n",
            " '24/12/14 13:29' '24/12/14 13:56' '24/12/14 17:06' '24/12/14 17:07'\n",
            " '24/12/14 18:44' '24/12/14 20:44' '24/12/14 23:34' '25/12/14 06:58'\n",
            " '25/12/14 12:27' '26/12/14 06:58' '26/12/14 11:09' '26/12/14 11:48'\n",
            " '27/12/14 06:58' '27/12/14 22:30' '28/12/14 06:58' '29/12/14 06:58'\n",
            " '29/12/14 12:09' '30/12/14 06:58' '30/12/14 11:57' '30/12/14 12:01'\n",
            " '30/12/14 12:02' '30/12/14 12:03' '30/12/14 12:04' '30/12/14 12:05'\n",
            " '30/12/14 12:06' '30/12/14 12:10' '30/12/14 12:13' '30/12/14 12:14'\n",
            " '31/12/14 06:58' '31/12/14 13:00' '31/12/14 13:03' '31/12/14 13:49'\n",
            " '31/12/14 23:05' '31/12/14 23:37' '01/01/15 06:58' '02/01/15 06:58'\n",
            " '02/01/15 11:27' '02/01/15 23:26' '02/01/15 23:28' '03/01/15 06:58'\n",
            " '03/01/15 12:01' '04/01/15 00:57' '04/01/15 06:58' '04/01/15 14:20'\n",
            " '04/01/15 14:31' '04/01/15 14:32' '05/01/15 06:58' '05/01/15 09:49'\n",
            " '05/01/15 09:51' '05/01/15 10:10' '05/01/15 10:25' '05/01/15 10:52'\n",
            " '05/01/15 10:56' '05/01/15 11:58' '05/01/15 14:29' '05/01/15 16:41'\n",
            " '05/01/15 17:22' '05/01/15 20:23' '06/01/15 06:58' '06/01/15 09:04'\n",
            " '06/01/15 13:28' '06/01/15 13:29' '06/01/15 13:55' '06/01/15 19:17'\n",
            " '06/01/15 20:40' '07/01/15 06:58' '07/01/15 09:28' '07/01/15 21:20'\n",
            " '08/01/15 06:58' '08/01/15 15:02' '08/01/15 15:10' '08/01/15 20:15'\n",
            " '08/01/15 20:26' '08/01/15 20:30' '08/01/15 20:31' '08/01/15 22:41'\n",
            " '08/01/15 22:52' '08/01/15 23:06' '09/01/15 06:58' '09/01/15 09:25'\n",
            " '09/01/15 09:43' '09/01/15 10:07' '09/01/15 17:32' '10/01/15 06:58'\n",
            " '10/01/15 14:10' '10/01/15 14:36' '10/01/15 14:44' '10/01/15 15:58'\n",
            " '10/01/15 16:57' '10/01/15 21:16' '11/01/15 06:58' '11/01/15 13:29'\n",
            " '11/01/15 13:54' '12/01/15 06:58' '12/01/15 12:01' '12/01/15 18:23'\n",
            " '12/01/15 18:26' '13/01/15 06:58' '13/01/15 15:04' '13/01/15 19:09'\n",
            " '13/01/15 19:44' '13/01/15 19:57' '13/01/15 19:58' '13/01/15 20:00'\n",
            " '14/01/15 06:58' '14/01/15 17:15' '14/01/15 19:16' '14/01/15 20:47'\n",
            " '14/01/15 23:34' '14/01/15 23:35' '14/01/15 23:36' '15/01/15 06:58'\n",
            " '15/01/15 10:36' '15/01/15 12:23' '15/01/15 17:22' '16/01/15 06:58'\n",
            " '16/01/15 09:45' '16/01/15 09:56' '16/01/15 10:17' '16/01/15 10:25'\n",
            " '16/01/15 17:46' '16/01/15 18:07' '17/01/15 06:58' '17/01/15 18:50'\n",
            " '17/01/15 21:59' '18/01/15 06:58' '18/01/15 16:27' '18/01/15 17:04'\n",
            " '19/01/15 06:58' '19/01/15 12:44' '19/01/15 19:57' '19/01/15 20:08'\n",
            " '19/01/15 20:14' '20/01/15 06:58' '20/01/15 15:08' '20/01/15 19:49'\n",
            " '20/01/15 20:23' '21/01/15 06:58' '21/01/15 10:13' '21/01/15 14:36'\n",
            " '21/01/15 14:44' '21/01/15 15:56' '21/01/15 15:57' '21/01/15 18:04'\n",
            " '21/01/15 19:38' '21/01/15 19:59' '22/01/15 06:58' '22/01/15 18:59'\n",
            " '22/01/15 19:00' '23/01/15 06:58' '23/01/15 12:56' '23/01/15 14:32'\n",
            " '23/01/15 15:09' '23/01/15 15:22' '23/01/15 15:24' '23/01/15 15:37'\n",
            " '23/01/15 21:22' '24/01/15 06:58' '25/01/15 06:58' '25/01/15 09:16'\n",
            " '25/01/15 16:55' '26/01/15 06:58' '26/01/15 16:54' '26/01/15 17:15'\n",
            " '27/01/15 06:58' '27/01/15 09:36' '27/01/15 10:55' '28/01/15 06:58'\n",
            " '28/01/15 09:44' '28/01/15 10:02' '28/01/15 15:53' '29/01/15 06:58'\n",
            " '29/01/15 11:35' '29/01/15 11:50' '29/01/15 17:11' '29/01/15 17:19'\n",
            " '29/01/15 17:58' '29/01/15 18:05' '29/01/15 19:27' '30/01/15 06:58'\n",
            " '30/01/15 19:43' '30/01/15 19:56' '31/01/15 06:58' '31/01/15 12:48'\n",
            " '31/01/15 13:14' '01/02/15 06:58' '01/02/15 13:33' '02/02/15 06:58'\n",
            " '02/02/15 17:11' '02/02/15 17:16' '02/02/15 17:35' '02/02/15 18:17'\n",
            " '03/02/15 06:58' '03/02/15 14:45' '04/02/15 06:58' '04/02/15 12:36'\n",
            " '04/02/15 14:52' '04/02/15 17:04' '05/02/15 06:58' '05/02/15 13:37'\n",
            " '05/02/15 13:38' '06/02/15 06:58' '06/02/15 10:36' '06/02/15 10:37'\n",
            " '06/02/15 18:39' '06/02/15 18:41' '07/02/15 06:58' '07/02/15 09:48'\n",
            " '07/02/15 10:03' '07/02/15 11:13' '07/02/15 11:37' '07/02/15 15:04'\n",
            " '07/02/15 16:06' '07/02/15 16:11' '07/02/15 16:16' '07/02/15 16:27'\n",
            " '07/02/15 17:33' '07/02/15 17:56' '07/02/15 18:23' '07/02/15 22:18'\n",
            " '07/02/15 22:30' '08/02/15 06:58' '08/02/15 20:54' '09/02/15 06:58'\n",
            " '09/02/15 09:08' '09/02/15 17:41' '09/02/15 17:54' '09/02/15 18:32'\n",
            " '09/02/15 22:54' '10/02/15 00:24' '10/02/15 06:58' '10/02/15 21:40'\n",
            " '11/02/15 06:58' '12/02/15 06:58' '12/02/15 20:15' '12/02/15 20:51'\n",
            " '13/02/15 06:58' '13/02/15 10:58' '13/02/15 21:13' '14/02/15 06:58'\n",
            " '14/02/15 15:40' '14/02/15 16:06' '15/02/15 06:58' '15/02/15 18:44'\n",
            " '16/02/15 06:58' '17/02/15 06:58' '17/02/15 15:59' '17/02/15 19:09'\n",
            " '18/02/15 06:58' '18/02/15 18:49' '18/02/15 19:56' '19/02/15 06:58'\n",
            " '19/02/15 18:46' '19/02/15 22:00' '20/02/15 06:58' '20/02/15 13:45'\n",
            " '21/02/15 06:58' '22/02/15 06:58' '23/02/15 06:58' '23/02/15 20:49'\n",
            " '24/02/15 06:58' '24/02/15 10:05' '24/02/15 13:32' '25/02/15 06:58'\n",
            " '25/02/15 12:56' '25/02/15 12:58' '25/02/15 13:15' '25/02/15 13:21'\n",
            " '25/02/15 13:22' '25/02/15 13:26' '25/02/15 13:46' '25/02/15 15:45'\n",
            " '26/02/15 06:58' '26/02/15 16:38' '26/02/15 22:34' '27/02/15 06:58'\n",
            " '27/02/15 13:50' '27/02/15 14:33' '27/02/15 14:36' '28/02/15 06:58'\n",
            " '28/02/15 14:09' '28/02/15 14:57' '28/02/15 15:09' '28/02/15 15:49'\n",
            " '28/02/15 16:00' '28/02/15 17:13' '28/02/15 17:14' '28/02/15 17:17'\n",
            " '28/02/15 21:25' '28/02/15 21:55' '28/02/15 22:39' '01/03/15 06:58'\n",
            " '01/03/15 12:19' '02/03/15 06:58' '02/03/15 09:19' '02/03/15 09:23'\n",
            " '02/03/15 09:30' '02/03/15 13:07' '02/03/15 14:53' '02/03/15 14:54'\n",
            " '02/03/15 17:35' '02/03/15 20:48' '03/03/15 06:58' '03/03/15 09:57'\n",
            " '03/03/15 09:59' '03/03/15 10:12' '03/03/15 10:27' '03/03/15 14:34'\n",
            " '03/03/15 18:36' '04/03/15 06:58' '04/03/15 07:02' '04/03/15 07:16'\n",
            " '04/03/15 10:30' '04/03/15 12:29' '05/03/15 06:58' '06/03/15 06:58'\n",
            " '07/03/15 06:58' '08/03/15 06:58' '09/03/15 06:58' '10/03/15 06:58'\n",
            " '11/03/15 06:58' '12/03/15 06:58' '13/03/15 00:38' '13/03/15 00:39'\n",
            " '13/03/15 06:58' '14/03/15 00:13' '14/03/15 00:16']\n",
            "\n",
            "item ['data' 'call' 'sms']\n",
            "\n",
            "month ['2014-11' '2014-12' '2015-01' '2015-02' '2015-03']\n",
            "\n",
            "network ['data' 'Vodafone' 'Meteor' 'Tesco' 'Three' 'voicemail' 'landline'\n",
            " 'special' 'world']\n",
            "\n",
            "network_type ['data' 'mobile' 'voicemail' 'landline' 'special' 'world']\n",
            "\n"
          ]
        }
      ]
    },
    {
      "cell_type": "markdown",
      "source": [
        "## 3. ***Data Wrangling***"
      ],
      "metadata": {
        "id": "dauF4eBmngu3"
      }
    },
    {
      "cell_type": "markdown",
      "source": [
        "### Data Wrangling Code"
      ],
      "metadata": {
        "id": "bKJF3rekwFvQ"
      }
    },
    {
      "cell_type": "code",
      "source": [
        "print(df.head())\n",
        "\n",
        "# Change 'date' column to proper datetime format\n",
        "df['date'] = pd.to_datetime(df['date'], format='%d/%m/%y %H:%M')\n",
        "\n",
        "# Change 'month' column to proper datetime too\n",
        "df['month'] = pd.to_datetime(df['month'], format='%Y-%m')\n",
        "\n",
        "# Remove duplicate rows\n",
        "df.drop_duplicates(inplace=True)\n",
        "\n",
        "# Create new helpful columns\n",
        "df['day'] = df['date'].dt.day_name()\n",
        "df['hour'] = df['date'].dt.hour\n",
        "df['month_name'] = df['month'].dt.month_name()\n",
        "\n",
        "# Check for missing values (if any)\n",
        "print(\"\\nMissing values in each column:\")\n",
        "print(df.isnull().sum())\n",
        "\n",
        "# Print final info about cleaned data\n",
        "print(\"\\nFinal dataset:\")\n",
        "print(df.info())\n",
        "df.to_csv('cleaned_phone_data.csv', index=False)\n"
      ],
      "metadata": {
        "id": "wk-9a2fpoLcV",
        "colab": {
          "base_uri": "https://localhost:8080/"
        },
        "outputId": "aeef399c-dee2-4696-f80d-7b56ec53ea89"
      },
      "execution_count": 70,
      "outputs": [
        {
          "output_type": "stream",
          "name": "stdout",
          "text": [
            "   index            date  duration  item    month   network network_type\n",
            "0      0  15/10/14 06:58    34.429  data  2014-11      data         data\n",
            "1      1  15/10/14 06:58    13.000  call  2014-11  Vodafone       mobile\n",
            "2      2  15/10/14 14:46    23.000  call  2014-11    Meteor       mobile\n",
            "3      3  15/10/14 14:48     4.000  call  2014-11     Tesco       mobile\n",
            "4      4  15/10/14 17:27     4.000  call  2014-11     Tesco       mobile\n",
            "\n",
            "Missing values in each column:\n",
            "index           0\n",
            "date            0\n",
            "duration        0\n",
            "item            0\n",
            "month           0\n",
            "network         0\n",
            "network_type    0\n",
            "day             0\n",
            "hour            0\n",
            "month_name      0\n",
            "dtype: int64\n",
            "\n",
            "Final dataset:\n",
            "<class 'pandas.core.frame.DataFrame'>\n",
            "RangeIndex: 830 entries, 0 to 829\n",
            "Data columns (total 10 columns):\n",
            " #   Column        Non-Null Count  Dtype         \n",
            "---  ------        --------------  -----         \n",
            " 0   index         830 non-null    int64         \n",
            " 1   date          830 non-null    datetime64[ns]\n",
            " 2   duration      830 non-null    float64       \n",
            " 3   item          830 non-null    object        \n",
            " 4   month         830 non-null    datetime64[ns]\n",
            " 5   network       830 non-null    object        \n",
            " 6   network_type  830 non-null    object        \n",
            " 7   day           830 non-null    object        \n",
            " 8   hour          830 non-null    int32         \n",
            " 9   month_name    830 non-null    object        \n",
            "dtypes: datetime64[ns](2), float64(1), int32(1), int64(1), object(5)\n",
            "memory usage: 61.7+ KB\n",
            "None\n"
          ]
        }
      ]
    },
    {
      "cell_type": "markdown",
      "source": [
        "### What all manipulations have you done and insights you found?"
      ],
      "metadata": {
        "id": "MSa1f5Uengrz"
      }
    },
    {
      "cell_type": "markdown",
      "source": [
        "IN this manipulation we have done , to change column to the proper date formate and change month to the proper month formate"
      ],
      "metadata": {
        "id": "LbyXE7I1olp8"
      }
    },
    {
      "cell_type": "markdown",
      "source": [
        "## ***4. Data Vizualization, Storytelling & Experimenting with charts : Understand the relationships between variables***"
      ],
      "metadata": {
        "id": "GF8Ens_Soomf"
      }
    },
    {
      "cell_type": "markdown",
      "source": [
        "#### Chart - 1\n",
        "#### **Count of Call vs Data Usage**"
      ],
      "metadata": {
        "id": "0wOQAZs5pc--"
      }
    },
    {
      "cell_type": "code",
      "source": [
        "sns.set(style=\"whitegrid\")\n",
        "\n",
        "plt.figure(figsize=(6, 4))\n",
        "sns.countplot(x='item', data=df, hue='item', palette='Set2', legend=False)\n",
        "plt.title('Count of Call vs Data Usage')\n",
        "plt.xlabel('Activity Type')\n",
        "plt.ylabel('Number of Records')\n",
        "plt.show()\n",
        "plt.close()"
      ],
      "metadata": {
        "id": "7v_ESjsspbW7",
        "colab": {
          "base_uri": "https://localhost:8080/",
          "height": 419
        },
        "outputId": "f4d46bd9-8bcc-4fd3-ec07-d501b644f8d2"
      },
      "execution_count": 88,
      "outputs": [
        {
          "output_type": "display_data",
          "data": {
            "text/plain": [
              "<Figure size 600x400 with 1 Axes>"
            ],
            "image/png": "[encoded data removed]"
          },
          "metadata": {}
        }
      ]
    },
    {
      "cell_type": "markdown",
      "source": [
        "##### 1. Why did I pick the specific chart?"
      ],
      "metadata": {
        "id": "K5QZ13OEpz2H"
      }
    },
    {
      "cell_type": "markdown",
      "source": [
        "This chart helps quickly understand the usage preference between traditional calling and internet/data usage. It’s a basic yet powerful way to visualize which activity type dominates."
      ],
      "metadata": {
        "id": "XESiWehPqBRc"
      }
    },
    {
      "cell_type": "markdown",
      "source": [
        "##### 2. What is/are the insight(s) found from the chart?"
      ],
      "metadata": {
        "id": "lQ7QKXXCp7Bj"
      }
    },
    {
      "cell_type": "markdown",
      "source": [
        "The chart clearly shows that the number of call records is higher than the number of data records.\n",
        "* Users are making calls more frequently than using mobile data, according to the dataset."
      ],
      "metadata": {
        "id": "C_j1G7yiqdRP"
      }
    },
    {
      "cell_type": "markdown",
      "source": [
        "##### 3. Will the gained insights help creating a positive business impact?"
      ],
      "metadata": {
        "id": "448CDAPjqfQr"
      }
    },
    {
      "cell_type": "markdown",
      "source": [
        "Yes, the insights gained from the analysis can help create a positive business impact.\n",
        "\n",
        "🔹 Positive Business Impact – How?\n",
        "1. Better Plan Design\n",
        "If users are making more calls than using data, telecom providers can create or promote voice-centric plans to match user behavior.\n",
        "\n",
        "2. Network Optimization\n",
        "Knowing the peak hours and most-used network types allows service providers to improve bandwidth and reduce congestion, resulting in better customer satisfaction.\n",
        "\n",
        "🔹 Are there any insights that could lead to negative growth?\n",
        "While most insights are positive, some could highlight business risks, such as:\n",
        "\n",
        "1. **Low Data Usage**\n",
        "\n",
        "* If users are not consuming much data, it may signal a lack of interest in the company’s data services.\n",
        "\n",
        "* This can result in lower ARPU (Average Revenue Per User) from data plans — a negative growth factor in a data-driven market.\n",
        "\n",
        "2. **High Dependence on Few Networks**\n",
        "\n",
        "* If most activity is concentrated on just one or two network providers, it may expose the business to dependency risk or network failure issues."
      ],
      "metadata": {
        "id": "3cspy4FjqxJW"
      }
    },
    {
      "cell_type": "markdown",
      "source": [
        "#### Chart - 2\n",
        "**Most Used Network Providers**"
      ],
      "metadata": {
        "id": "KSlN3yHqYklG"
      }
    },
    {
      "cell_type": "code",
      "source": [
        "sns.set(style=\"whitegrid\")\n",
        "\n",
        "plt.figure(figsize=(6, 4))\n",
        "sns.countplot(y='network', data=df, hue='network', palette='Set2', legend=False)\n",
        "plt.title('Chart 2: Most Used Network Providers')\n",
        "plt.xlabel('Number of Records')\n",
        "plt.ylabel('Network')\n",
        "plt.show()\n",
        "plt.close()"
      ],
      "metadata": {
        "id": "R4YgtaqtYklH",
        "colab": {
          "base_uri": "https://localhost:8080/",
          "height": 419
        },
        "outputId": "007b46d6-95cf-4d01-fe13-da496a2c23e0"
      },
      "execution_count": 89,
      "outputs": [
        {
          "output_type": "display_data",
          "data": {
            "text/plain": [
              "<Figure size 600x400 with 1 Axes>"
            ],
            "image/png": "[encoded data removed]"
          },
          "metadata": {}
        }
      ]
    },
    {
      "cell_type": "markdown",
      "source": [
        "##### 1. Why did I pick the specific chart?"
      ],
      "metadata": {
        "id": "t6dVpIINYklI"
      }
    },
    {
      "cell_type": "markdown",
      "source": [
        "To identify which mobile network providers are most frequently used by users."
      ],
      "metadata": {
        "id": "5aaW0BYyYklI"
      }
    },
    {
      "cell_type": "markdown",
      "source": [
        "##### 2. What is/are the insight(s) found from the chart?"
      ],
      "metadata": {
        "id": "ijmpgYnKYklI"
      }
    },
    {
      "cell_type": "markdown",
      "source": [
        "Vodafone and Tesco have the highest usage, indicating they are more popular or reliable."
      ],
      "metadata": {
        "id": "PSx9atu2YklI"
      }
    },
    {
      "cell_type": "markdown",
      "source": [
        "##### 3. Will the gained insights help creating a positive business impact?\n"
      ],
      "metadata": {
        "id": "-JiQyfWJYklI"
      }
    },
    {
      "cell_type": "markdown",
      "source": [
        "Positive — Focus marketing and partnerships with top-performing networks."
      ],
      "metadata": {
        "id": "BcBbebzrYklV"
      }
    },
    {
      "cell_type": "markdown",
      "source": [
        "#### Chart - 3\n",
        "**Network Type Usage**"
      ],
      "metadata": {
        "id": "EM7whBJCYoAo"
      }
    },
    {
      "cell_type": "code",
      "source": [
        "sns.set(style=\"whitegrid\")\n",
        "\n",
        "plt.figure(figsize=(6, 4))\n",
        "sns.countplot(x='network_type', data=df, hue='network_type', palette='Set2', legend=False)\n",
        "plt.title('Chart: Network Type Usage')\n",
        "plt.xlabel('Network Type')\n",
        "plt.ylabel('Number of Records')\n",
        "plt.show()\n",
        "plt.close()"
      ],
      "metadata": {
        "id": "t6GMdE67YoAp",
        "colab": {
          "base_uri": "https://localhost:8080/",
          "height": 419
        },
        "outputId": "0738121a-af4b-45cb-fbda-918cdc49f47f"
      },
      "execution_count": 90,
      "outputs": [
        {
          "output_type": "display_data",
          "data": {
            "text/plain": [
              "<Figure size 600x400 with 1 Axes>"
            ],
            "image/png": "[encoded data removed]"
          },
          "metadata": {}
        }
      ]
    },
    {
      "cell_type": "markdown",
      "source": [
        "##### 1. Why did I pick the specific chart?"
      ],
      "metadata": {
        "id": "fge-S5ZAYoAp"
      }
    },
    {
      "cell_type": "markdown",
      "source": [
        "To see how often users connect through Mobile, Wi-Fi, or other network types."
      ],
      "metadata": {
        "id": "5dBItgRVYoAp"
      }
    },
    {
      "cell_type": "markdown",
      "source": [
        "##### 2. What is/are the insight(s) found from the chart?"
      ],
      "metadata": {
        "id": "85gYPyotYoAp"
      }
    },
    {
      "cell_type": "markdown",
      "source": [
        "Mobile networks are used more often than Wi-Fi, suggesting high mobile dependency."
      ],
      "metadata": {
        "id": "4jstXR6OYoAp"
      }
    },
    {
      "cell_type": "markdown",
      "source": [
        "##### 3. Will the gained insights help creating a positive business impact?"
      ],
      "metadata": {
        "id": "RoGjAbkUYoAp"
      }
    },
    {
      "cell_type": "markdown",
      "source": [
        "**Positive** — Mobile optimization and strong signal coverage should be prioritized."
      ],
      "metadata": {
        "id": "zfJ8IqMcYoAp"
      }
    },
    {
      "cell_type": "markdown",
      "source": [
        "#### Chart - 4\n",
        "**Usage by Hour of Day**"
      ],
      "metadata": {
        "id": "4Of9eVA-YrdM"
      }
    },
    {
      "cell_type": "code",
      "source": [
        "sns.set(style=\"whitegrid\")\n",
        "\n",
        "plt.figure(figsize=(6, 4))\n",
        "sns.countplot(x='hour', data=df, hue='hour', palette='rocket', legend=False)\n",
        "plt.title('Chart: Usage by Hour of Day')\n",
        "plt.xlabel('Hour')\n",
        "plt.ylabel('Number of Records')\n",
        "plt.show()\n",
        "plt.close()"
      ],
      "metadata": {
        "id": "irlUoxc8YrdO",
        "colab": {
          "base_uri": "https://localhost:8080/",
          "height": 419
        },
        "outputId": "12b4ce8f-5154-4f11-d846-9f26fdab193a"
      },
      "execution_count": 91,
      "outputs": [
        {
          "output_type": "display_data",
          "data": {
            "text/plain": [
              "<Figure size 600x400 with 1 Axes>"
            ],
            "image/png": "[encoded data removed]"
          },
          "metadata": {}
        }
      ]
    },
    {
      "cell_type": "markdown",
      "source": [
        "##### 1. Why did I pick the specific chart?"
      ],
      "metadata": {
        "id": "iky9q4vBYrdO"
      }
    },
    {
      "cell_type": "markdown",
      "source": [
        "To understand peak phone usage times during the day."
      ],
      "metadata": {
        "id": "aJRCwT6DYrdO"
      }
    },
    {
      "cell_type": "markdown",
      "source": [
        "##### 2. What is/are the insight(s) found from the chart?"
      ],
      "metadata": {
        "id": "F6T5p64dYrdO"
      }
    },
    {
      "cell_type": "markdown",
      "source": [
        "Evening hours (6–9 PM) show the highest usage."
      ],
      "metadata": {
        "id": "Xx8WAJvtYrdO"
      }
    },
    {
      "cell_type": "markdown",
      "source": [
        "##### 3. Will the gained insights help creating a positive business impact?"
      ],
      "metadata": {
        "id": "y-Ehk30pYrdP"
      }
    },
    {
      "cell_type": "markdown",
      "source": [
        "Positive — Helps in network load balancing and targeted promotions during peak hours."
      ],
      "metadata": {
        "id": "jLNxxz7MYrdP"
      }
    },
    {
      "cell_type": "markdown",
      "source": [
        "#### Chart - 5\n",
        "**Usage by Day of Week**"
      ],
      "metadata": {
        "id": "bamQiAODYuh1"
      }
    },
    {
      "cell_type": "code",
      "source": [
        "plt.figure(figsize=(6, 4))\n",
        "sns.pointplot(x='day', y='duration', data=df, order=['Monday', 'Tuesday', 'Wednesday', 'Thursday', 'Friday', 'Saturday', 'Sunday'], color='green')\n",
        "plt.title('Average Duration by Day of Week')\n",
        "plt.xlabel('Day')\n",
        "plt.ylabel('Avg Duration')\n",
        "plt.tight_layout()\n",
        "plt.show()\n",
        "plt.close()"
      ],
      "metadata": {
        "id": "TIJwrbroYuh3",
        "colab": {
          "base_uri": "https://localhost:8080/",
          "height": 401
        },
        "outputId": "b76eee20-2bbc-4658-eca2-0b671c544c86"
      },
      "execution_count": 75,
      "outputs": [
        {
          "output_type": "display_data",
          "data": {
            "text/plain": [
              "<Figure size 600x400 with 1 Axes>"
            ],
            "image/png": "[encoded data removed]"
          },
          "metadata": {}
        }
      ]
    },
    {
      "cell_type": "markdown",
      "source": [
        "##### 1. Why did I pick the specific chart?"
      ],
      "metadata": {
        "id": "QHF8YVU7Yuh3"
      }
    },
    {
      "cell_type": "markdown",
      "source": [
        "To observe if usage varies by day (weekday vs weekend)."
      ],
      "metadata": {
        "id": "dcxuIMRPYuh3"
      }
    },
    {
      "cell_type": "markdown",
      "source": [
        "##### 2. What is/are the insight(s) found from the chart?"
      ],
      "metadata": {
        "id": "GwzvFGzlYuh3"
      }
    },
    {
      "cell_type": "markdown",
      "source": [
        "Friday shows slightly more usage; activity remains fairly consistent across the week."
      ],
      "metadata": {
        "id": "uyqkiB8YYuh3"
      }
    },
    {
      "cell_type": "markdown",
      "source": [
        "##### 3. Will the gained insights help creating a positive business impact?\n"
      ],
      "metadata": {
        "id": "qYpmQ266Yuh3"
      }
    },
    {
      "cell_type": "markdown",
      "source": [
        "**Positive** — Plan offers or upgrades for end-of-week engagement."
      ],
      "metadata": {
        "id": "_WtzZ_hCYuh4"
      }
    },
    {
      "cell_type": "markdown",
      "source": [
        "#### Chart - 6\n",
        "**Monthly Usage Trend**"
      ],
      "metadata": {
        "id": "OH-pJp9IphqM"
      }
    },
    {
      "cell_type": "code",
      "source": [
        "plt.figure(figsize=(6, 4))\n",
        "df['month_name'].value_counts().sort_values(ascending=True).plot(kind='bar', color='mediumpurple')\n",
        "plt.title('Chart 6: Monthly Usage Trend')\n",
        "plt.xlabel('Month')\n",
        "plt.ylabel('Number of Records')\n",
        "plt.tight_layout()\n",
        "plt.show()\n",
        "plt.close()"
      ],
      "metadata": {
        "id": "kuRf4wtuphqN",
        "colab": {
          "base_uri": "https://localhost:8080/",
          "height": 401
        },
        "outputId": "6d61cd8b-88d0-470c-94f4-7be9c5eb149a"
      },
      "execution_count": 76,
      "outputs": [
        {
          "output_type": "display_data",
          "data": {
            "text/plain": [
              "<Figure size 600x400 with 1 Axes>"
            ],
            "image/png": "[encoded data removed]"
          },
          "metadata": {}
        }
      ]
    },
    {
      "cell_type": "markdown",
      "source": [
        "##### 1. Why did I pick the specific chart?"
      ],
      "metadata": {
        "id": "bbFf2-_FphqN"
      }
    },
    {
      "cell_type": "markdown",
      "source": [
        "To track phone usage patterns across months."
      ],
      "metadata": {
        "id": "loh7H2nzphqN"
      }
    },
    {
      "cell_type": "markdown",
      "source": [
        "##### 2. What is/are the insight(s) found from the chart?"
      ],
      "metadata": {
        "id": "_ouA3fa0phqN"
      }
    },
    {
      "cell_type": "markdown",
      "source": [
        "Spikes in December and January suggest higher usage during holidays."
      ],
      "metadata": {
        "id": "VECbqPI7phqN"
      }
    },
    {
      "cell_type": "markdown",
      "source": [
        "##### 3. Will the gained insights help creating a positive business impact?\n"
      ],
      "metadata": {
        "id": "Seke61FWphqN"
      }
    },
    {
      "cell_type": "markdown",
      "source": [
        "**Positive** — Use this to plan holiday campaigns and data offers."
      ],
      "metadata": {
        "id": "DW4_bGpfphqN"
      }
    },
    {
      "cell_type": "markdown",
      "source": [
        "#### Chart - 7\n",
        "**Call vs Data by Network**"
      ],
      "metadata": {
        "id": "PIIx-8_IphqN"
      }
    },
    {
      "cell_type": "code",
      "source": [
        "plt.figure(figsize=(6, 4))\n",
        "sns.countplot(x='network', hue='item', data=df, palette='coolwarm')\n",
        "plt.title('Chart 7: Call vs Data Usage by Network')\n",
        "plt.xlabel('Network')\n",
        "plt.ylabel('Count')\n",
        "plt.xticks(rotation=45)\n",
        "plt.tight_layout()\n",
        "plt.show()\n",
        "plt.close()"
      ],
      "metadata": {
        "id": "lqAIGUfyphqO",
        "colab": {
          "base_uri": "https://localhost:8080/",
          "height": 401
        },
        "outputId": "955c68a9-bfd4-48f0-ed88-0deb750299f5"
      },
      "execution_count": 77,
      "outputs": [
        {
          "output_type": "display_data",
          "data": {
            "text/plain": [
              "<Figure size 600x400 with 1 Axes>"
            ],
            "image/png": "[encoded data removed]"
          },
          "metadata": {}
        }
      ]
    },
    {
      "cell_type": "markdown",
      "source": [
        "##### 1. Why did I pick the specific chart?"
      ],
      "metadata": {
        "id": "t27r6nlMphqO"
      }
    },
    {
      "cell_type": "markdown",
      "source": [
        "To compare how different networks are used for calls or data."
      ],
      "metadata": {
        "id": "iv6ro40sphqO"
      }
    },
    {
      "cell_type": "markdown",
      "source": [
        "##### 2. What is/are the insight(s) found from the chart?"
      ],
      "metadata": {
        "id": "r2jJGEOYphqO"
      }
    },
    {
      "cell_type": "markdown",
      "source": [
        "Some networks (like Vodafone) are used more for calls, others for data."
      ],
      "metadata": {
        "id": "Po6ZPi4hphqO"
      }
    },
    {
      "cell_type": "markdown",
      "source": [
        "##### 3. Will the gained insights help creating a positive business impact?\n"
      ],
      "metadata": {
        "id": "b0JNsNcRphqO"
      }
    },
    {
      "cell_type": "markdown",
      "source": [
        "**Positive** — Tailor service bundles based on network-specific usage."
      ],
      "metadata": {
        "id": "xvSq8iUTphqO"
      }
    },
    {
      "cell_type": "markdown",
      "source": [
        "#### Chart - 8\n",
        "**Distribution of Duration (Histogram)**"
      ],
      "metadata": {
        "id": "BZR9WyysphqO"
      }
    },
    {
      "cell_type": "code",
      "source": [
        "plt.figure(figsize=(6, 4))\n",
        "sns.histplot(df['duration'], kde=True, bins=30, color='steelblue')\n",
        "plt.title('Chart 8: Duration Distribution')\n",
        "plt.xlabel('Duration (seconds)')\n",
        "plt.ylabel('Frequency')\n",
        "plt.tight_layout()\n",
        "plt.show()\n",
        "plt.close()"
      ],
      "metadata": {
        "id": "TdPTWpAVphqO",
        "colab": {
          "base_uri": "https://localhost:8080/",
          "height": 401
        },
        "outputId": "120dfc3f-0691-4db7-9388-76cff2603666"
      },
      "execution_count": 78,
      "outputs": [
        {
          "output_type": "display_data",
          "data": {
            "text/plain": [
              "<Figure size 600x400 with 1 Axes>"
            ],
            "image/png": "[encoded data removed]"
          },
          "metadata": {}
        }
      ]
    },
    {
      "cell_type": "markdown",
      "source": [
        "##### 1. Why did I pick the specific chart?\n"
      ],
      "metadata": {
        "id": "jj7wYXLtphqO"
      }
    },
    {
      "cell_type": "markdown",
      "source": [
        "To analyze how long typical phone sessions last."
      ],
      "metadata": {
        "id": "Ob8u6rCTphqO"
      }
    },
    {
      "cell_type": "markdown",
      "source": [
        "##### 2. What is/are the insight(s) found from the chart?"
      ],
      "metadata": {
        "id": "eZrbJ2SmphqO"
      }
    },
    {
      "cell_type": "markdown",
      "source": [
        "Most activities are short (under 100 seconds), with a few long sessions."
      ],
      "metadata": {
        "id": "mZtgC_hjphqO"
      }
    },
    {
      "cell_type": "markdown",
      "source": [
        "##### 3. Will the gained insights help creating a positive business impact?"
      ],
      "metadata": {
        "id": "rFu4xreNphqO"
      }
    },
    {
      "cell_type": "markdown",
      "source": [
        "Positive — Useful for optimizing app timeout settings and data usage billing."
      ],
      "metadata": {
        "id": "ey_0qi68phqO"
      }
    },
    {
      "cell_type": "markdown",
      "source": [
        "#### Chart - 9\n",
        "**Duration by Activity Type**"
      ],
      "metadata": {
        "id": "YJ55k-q6phqO"
      }
    },
    {
      "cell_type": "code",
      "source": [
        "sns.set(style=\"whitegrid\")\n",
        "\n",
        "plt.figure(figsize=(6, 4))\n",
        "sns.boxplot(x='item', y='duration', data=df, hue='item', palette='Set3', legend=False)\n",
        "plt.title('Chart: Duration by Activity Type')\n",
        "plt.xlabel('Activity')\n",
        "plt.ylabel('Duration (seconds)')\n",
        "plt.show()\n",
        "plt.close()"
      ],
      "metadata": {
        "id": "B2aS4O1ophqO",
        "colab": {
          "base_uri": "https://localhost:8080/",
          "height": 419
        },
        "outputId": "147e1d35-4aae-4f56-a3d7-5071ff5ff193"
      },
      "execution_count": 92,
      "outputs": [
        {
          "output_type": "display_data",
          "data": {
            "text/plain": [
              "<Figure size 600x400 with 1 Axes>"
            ],
            "image/png": "[encoded data removed]"
          },
          "metadata": {}
        }
      ]
    },
    {
      "cell_type": "markdown",
      "source": [
        "##### 1. Why did I pick the specific chart?"
      ],
      "metadata": {
        "id": "gCFgpxoyphqP"
      }
    },
    {
      "cell_type": "markdown",
      "source": [
        "To compare the average duration of calls vs data sessions."
      ],
      "metadata": {
        "id": "TVxDimi2phqP"
      }
    },
    {
      "cell_type": "markdown",
      "source": [
        "##### 2. What is/are the insight(s) found from the chart?"
      ],
      "metadata": {
        "id": "OVtJsKN_phqQ"
      }
    },
    {
      "cell_type": "markdown",
      "source": [
        "Data sessions last significantly longer than calls."
      ],
      "metadata": {
        "id": "ngGi97qjphqQ"
      }
    },
    {
      "cell_type": "markdown",
      "source": [
        "##### 3. Will the gained insights help creating a positive business impact?"
      ],
      "metadata": {
        "id": "lssrdh5qphqQ"
      }
    },
    {
      "cell_type": "markdown",
      "source": [
        "**Positive** — Design data-heavy plans and reduce call-based pricing focus."
      ],
      "metadata": {
        "id": "tBpY5ekJphqQ"
      }
    },
    {
      "cell_type": "markdown",
      "source": [
        "#### Chart - 10\n",
        "**Top 5 Most Used Network Providers**"
      ],
      "metadata": {
        "id": "U2RJ9gkRphqQ"
      }
    },
    {
      "cell_type": "code",
      "source": [
        "top5 = df['network'].value_counts().head(5)\n",
        "\n",
        "plt.figure(figsize=(6, 4))\n",
        "top5.sort_values().plot(kind='barh', color='lightseagreen')\n",
        "plt.title('Chart 11: Top 5 Network Providers')\n",
        "plt.xlabel('Usage Count')\n",
        "plt.ylabel('Network')\n",
        "plt.tight_layout()\n",
        "plt.show()\n",
        "plt.close()"
      ],
      "metadata": {
        "id": "GM7a4YP4phqQ",
        "colab": {
          "base_uri": "https://localhost:8080/",
          "height": 401
        },
        "outputId": "9033f6c6-2b54-445f-9d11-2c09e43ea76c"
      },
      "execution_count": 80,
      "outputs": [
        {
          "output_type": "display_data",
          "data": {
            "text/plain": [
              "<Figure size 600x400 with 1 Axes>"
            ],
            "image/png": "[encoded data removed]"
          },
          "metadata": {}
        }
      ]
    },
    {
      "cell_type": "markdown",
      "source": [
        "##### 1. Why did I pick the specific chart?"
      ],
      "metadata": {
        "id": "1M8mcRywphqQ"
      }
    },
    {
      "cell_type": "markdown",
      "source": [
        "To quickly identify the 5 most used providers out of many."
      ],
      "metadata": {
        "id": "8agQvks0phqQ"
      }
    },
    {
      "cell_type": "markdown",
      "source": [
        "##### 2. What is/are the insight(s) found from the chart?"
      ],
      "metadata": {
        "id": "tgIPom80phqQ"
      }
    },
    {
      "cell_type": "markdown",
      "source": [
        "A small number of providers dominate the usage data."
      ],
      "metadata": {
        "id": "Qp13pnNzphqQ"
      }
    },
    {
      "cell_type": "markdown",
      "source": [
        "##### 3. Will the gained insights help creating a positive business impact?\n"
      ],
      "metadata": {
        "id": "JMzcOPDDphqR"
      }
    },
    {
      "cell_type": "markdown",
      "source": [
        "**Positive** — Strategic partnerships should focus on these providers."
      ],
      "metadata": {
        "id": "R4Ka1PC2phqR"
      }
    },
    {
      "cell_type": "markdown",
      "source": [
        "#### Chart - 11\n",
        "**Monthly Call vs Data Usage**"
      ],
      "metadata": {
        "id": "x-EpHcCOp1ci"
      }
    },
    {
      "cell_type": "code",
      "source": [
        "monthly_usage = df.groupby(['month_name', 'item']).size().unstack().fillna(0)\n",
        "monthly_usage = monthly_usage.loc[monthly_usage.sum(axis=1).sort_values().index]\n",
        "\n",
        "monthly_usage.plot(kind='bar', stacked=True, figsize=(7, 4), colormap='tab20c')\n",
        "plt.title('Chart 12: Monthly Call vs Data Usage')\n",
        "plt.xlabel('Month')\n",
        "plt.ylabel('Usage Count')\n",
        "plt.xticks(rotation=45)\n",
        "plt.tight_layout()\n",
        "plt.show()\n",
        "plt.close()"
      ],
      "metadata": {
        "id": "mAQTIvtqp1cj",
        "colab": {
          "base_uri": "https://localhost:8080/",
          "height": 401
        },
        "outputId": "873e4888-efa0-4bc4-bf00-0dcd05b78949"
      },
      "execution_count": 81,
      "outputs": [
        {
          "output_type": "display_data",
          "data": {
            "text/plain": [
              "<Figure size 700x400 with 1 Axes>"
            ],
            "image/png": "[encoded data removed]"
          },
          "metadata": {}
        }
      ]
    },
    {
      "cell_type": "markdown",
      "source": [
        "##### 1. Why did I pick the specific chart?"
      ],
      "metadata": {
        "id": "X_VqEhTip1ck"
      }
    },
    {
      "cell_type": "markdown",
      "source": [
        "To compare call and data trends over time (month-wise)."
      ],
      "metadata": {
        "id": "-vsMzt_np1ck"
      }
    },
    {
      "cell_type": "markdown",
      "source": [
        "##### 2. What is/are the insight(s) found from the chart?"
      ],
      "metadata": {
        "id": "8zGJKyg5p1ck"
      }
    },
    {
      "cell_type": "markdown",
      "source": [
        "Data usage is consistently higher than call usage in all months."
      ],
      "metadata": {
        "id": "ZYdMsrqVp1ck"
      }
    },
    {
      "cell_type": "markdown",
      "source": [
        "##### 3. Will the gained insights help creating a positive business impact?"
      ],
      "metadata": {
        "id": "PVzmfK_Ep1ck"
      }
    },
    {
      "cell_type": "markdown",
      "source": [
        "**Positive** — Emphasize high-speed data plans and reduce focus on call offers."
      ],
      "metadata": {
        "id": "druuKYZpp1ck"
      }
    },
    {
      "cell_type": "markdown",
      "source": [
        "#### Chart - 12 ( Correlation Heatmap )"
      ],
      "metadata": {
        "id": "NC_X3p0fY2L0"
      }
    },
    {
      "cell_type": "code",
      "source": [
        "plt.figure(figsize=(6, 4))\n",
        "sns.heatmap(df.corr(numeric_only=True), annot=True, cmap='coolwarm')\n",
        "plt.title('Chart 13: Correlation Heatmap')\n",
        "plt.tight_layout()\n",
        "plt.show()\n",
        "plt.close()"
      ],
      "metadata": {
        "id": "xyC9zolEZNRQ",
        "colab": {
          "base_uri": "https://localhost:8080/",
          "height": 401
        },
        "outputId": "39e6905e-47b7-49c1-da54-02dac33b6868"
      },
      "execution_count": 82,
      "outputs": [
        {
          "output_type": "display_data",
          "data": {
            "text/plain": [
              "<Figure size 600x400 with 2 Axes>"
            ],
            "image/png": "[encoded data removed]"
          },
          "metadata": {}
        }
      ]
    },
    {
      "cell_type": "markdown",
      "source": [
        "##### 1. Why did I pick the specific chart?"
      ],
      "metadata": {
        "id": "UV0SzAkaZNRQ"
      }
    },
    {
      "cell_type": "markdown",
      "source": [
        "To check if any numeric variables (like duration, hour) are strongly related."
      ],
      "metadata": {
        "id": "DVPuT8LYZNRQ"
      }
    },
    {
      "cell_type": "markdown",
      "source": [
        "#### Chart - 13 - Pair Plot"
      ],
      "metadata": {
        "id": "q29F0dvdveiT"
      }
    },
    {
      "cell_type": "code",
      "source": [
        "pairplot_data = df[['duration', 'hour']].copy()\n",
        "pairplot_data['item'] = df['item']\n",
        "\n",
        "# Plot pairplot\n",
        "sns.set(style=\"ticks\")\n",
        "sns.pairplot(pairplot_data, hue=\"item\", palette='Set2', diag_kind='kde')\n",
        "plt.suptitle(\"Pair Plot\", y=1.02)\n",
        "plt.show()"
      ],
      "metadata": {
        "id": "o58-TEIhveiU",
        "colab": {
          "base_uri": "https://localhost:8080/",
          "height": 533
        },
        "outputId": "f1c541d9-be8d-4e7c-f6a3-7a01a7ce83d6"
      },
      "execution_count": 83,
      "outputs": [
        {
          "output_type": "display_data",
          "data": {
            "text/plain": [
              "<Figure size 589.5x500 with 6 Axes>"
            ],
            "image/png": "[encoded data removed]"
          },
          "metadata": {}
        }
      ]
    },
    {
      "cell_type": "markdown",
      "source": [
        "##### 1. Why did I pick the specific chart?"
      ],
      "metadata": {
        "id": "EXh0U9oCveiU"
      }
    },
    {
      "cell_type": "markdown",
      "source": [
        "I chose a pair plot to understand the relationship between numerical features, especially:\n",
        "\n",
        "\n",
        "*   When phone usage occurs (hour of day)\n",
        "*   How long users stay active (duration)\n",
        "\n",
        "The color hue by activity type (call or data) makes it easy to compare patterns across both categories in one view."
      ],
      "metadata": {
        "id": "eMmPjTByveiU"
      }
    },
    {
      "cell_type": "markdown",
      "source": [
        "##### 2. What is/are the insight(s) found from the chart?"
      ],
      "metadata": {
        "id": "22aHeOlLveiV"
      }
    },
    {
      "cell_type": "markdown",
      "source": [
        "* **Data** usage sessions tend to occur more during the afternoon and evening hours.\n",
        "\n",
        "* **Call durations** are shorter and spread across the day.\n",
        "\n",
        "* Some **long-duration outliers** appear for data usage, especially during non-working hours.\n",
        "\n",
        "* There's no **strong linear correlation** between duration and time — indicating usage behavior varies."
      ],
      "metadata": {
        "id": "uPQ8RGwHveiV"
      }
    },
    {
      "cell_type": "markdown",
      "source": [
        "## **5. Solution to Business Objective**"
      ],
      "metadata": {
        "id": "JcMwzZxoAimU"
      }
    },
    {
      "cell_type": "markdown",
      "source": [
        "#### What do I suggest the client to achieve Business Objective ?\n"
      ],
      "metadata": {
        "id": "8G2x9gOozGDZ"
      }
    },
    {
      "cell_type": "markdown",
      "source": [
        "After analyzing the phone usage dataset through multiple charts (Chart 1 to 13), we can provide the following data-driven suggestions to help the client **achieve their business goals** effectively:\n",
        "1. Prioritize Data-Driven Services\n",
        " * Users prefer data usage over traditional calling.\n",
        " * Recommend launching affordable data packs, high-speed night plans, and content streaming partnerships.\n",
        "\n",
        "2. Optimize Services Based on Time Patterns\n",
        " * Peak usage occurs in the evenings and late afternoons.\n",
        "\n",
        "* Recommend:\n",
        "\n",
        " * Upgrading network bandwidth during these hours.\n",
        "\n",
        " * Scheduling non-critical maintenance at night or early morning.\n",
        "\n",
        "3. Network Partnerships and Promotions\n",
        " * Networks like Vodafone and Tesco dominate usage.\n",
        "\n",
        " * Suggest forming promotional bundles or partnerships with the top 3–5 networks for better outreach and brand presence.\n",
        "\n",
        "4. User Segmentation by Activity & Network Type\n",
        " * Wi-Fi usage durations are higher, possibly from home users.\n",
        "\n",
        "* Suggest launching:\n",
        "\n",
        " * **Broadband+mobile combo offers.**\n",
        "\n",
        " * Work-from-home or home entertainment plans.\n",
        "\n",
        "5. Targeted Marketing Campaigns\n",
        "* Create personalized offers based on:\n",
        "\n",
        " * Day-wise and hour-wise behavior (e.g., weekend boosters, evening binge plans).\n",
        "\n",
        " * High-duration users who may upgrade to premium tiers.\n",
        "\n",
        "6. Focus on Regions or Locations (if available)\n",
        " * **If location data is complete:**\n",
        "Identify high-usage regions and optimize service quality or run location-based offers.\n",
        "\n",
        "📌 Final Note:\n",
        "These recommendations are aligned with user behavior patterns identified in the dataset. By applying them, the client can enhance:\n",
        "\n",
        "* Customer retention\n",
        "\n",
        "* User satisfaction\n",
        "\n",
        "* Operational efficiency\n",
        "\n",
        "* And ultimately, revenue growth"
      ],
      "metadata": {
        "id": "pASKb0qOza21"
      }
    },
    {
      "cell_type": "markdown",
      "source": [
        "# **Conclusion**"
      ],
      "metadata": {
        "id": "gCX9965dhzqZ"
      }
    },
    {
      "cell_type": "markdown",
      "source": [
        "This Exploratory Data Analysis (EDA) of the phone usage dataset provided deep insights into user behavior across different networks, activity types, times of the day, and months of the year.\n",
        "\n",
        "Key findings include:\n",
        "\n",
        "* **Data usage far exceeds call activity**, reflecting the growing trend of internet-based communication.\n",
        "\n",
        "* Evening hours and weekends are peak usage periods, suggesting when users are most engaged.\n",
        "\n",
        "* Certain networks and network types (e.g., Mobile) are significantly more popular, guiding where service improvements or promotions can be targeted.\n",
        "\n",
        "* The duration of data sessions tends to be longer, especially when connected via Wi-Fi.\n",
        "\n",
        "By interpreting these patterns, we derived actionable business recommendations that can improve user experience, reduce churn, and enhance operational efficiency.\n",
        "\n",
        "This EDA not only supports better data-driven decision-making but also lays a strong foundation for advanced modeling like customer segmentation, churn prediction, or usage forecasting in future stages.\n",
        "\n"
      ],
      "metadata": {
        "id": "Fjb1IsQkh3yE"
      }
    }
  ]
}